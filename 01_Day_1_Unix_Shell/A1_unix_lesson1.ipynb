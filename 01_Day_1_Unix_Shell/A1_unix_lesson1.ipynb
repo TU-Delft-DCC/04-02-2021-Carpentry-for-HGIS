{
 "metadata": {
  "language_info": {
   "codemirror_mode": {
    "name": "ipython",
    "version": 3
   },
   "file_extension": ".py",
   "mimetype": "text/x-python",
   "name": "python",
   "nbconvert_exporter": "python",
   "pygments_lexer": "ipython3",
   "version": "3.9.1"
  },
  "orig_nbformat": 2,
  "kernelspec": {
   "name": "python3",
   "display_name": "Python 3.9.1 64-bit ('geospatial': conda)",
   "metadata": {
    "interpreter": {
     "hash": "c5ff75e383e2c1f5139649c29f775bf3fb1a63ca47ecfea1084cd0c0999df50a"
    }
   }
  }
 },
 "nbformat": 4,
 "nbformat_minor": 2,
 "cells": [
  {
   "source": [
    "# Create a new project directory and subdirectories for data and code\n",
    "\n",
    "## Run your first Bash commands\n",
    "\n",
    "1. Change Directory to Desktop: `$ cd Desktop`\n",
    "2. List files and directories on Desktop: `my_Desktop $ ls`\n",
    "3. Try a command error: `my_Desktop $ ks`\n",
    "\n",
    "## Create the new directories\n",
    "\n",
    "1. Make a workshop folder called `py_workshop_2021/`: `$ mkdir py_workshop_2021`\n",
    "2. Change directory to `py_workshop_2021`: `$ py_workshop_2021`\n",
    "3. List contents of `py_workshop_2021/`: `$ ls` (it should be empty)\n",
    "\n",
    "## Set up the project folder structure\n",
    "\n",
    "1. Make sure you are in the `py_workshop_2021/` folder: `$cd py_workshop_2021`\n",
    "2. Create two new directories, `data/` and `scripts/` inside the py_workshop_2021/ folder: `$ mkdir data scripts`\n",
    "\n",
    "Now try creating a folder for `documentation/` in `py_workshop_2021/`. Try this on your own.\n"
   ],
   "cell_type": "markdown",
   "metadata": {}
  },
  {
   "source": [
    "\n"
   ],
   "cell_type": "markdown",
   "metadata": {}
  }
 ]
}