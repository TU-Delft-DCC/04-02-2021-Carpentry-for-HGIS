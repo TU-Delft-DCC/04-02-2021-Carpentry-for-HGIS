{
 "metadata": {
  "language_info": {
   "codemirror_mode": {
    "name": "ipython",
    "version": 3
   },
   "file_extension": ".py",
   "mimetype": "text/x-python",
   "name": "python",
   "nbconvert_exporter": "python",
   "pygments_lexer": "ipython3",
   "version": 3
  },
  "orig_nbformat": 2
 },
 "nbformat": 4,
 "nbformat_minor": 2,
 "cells": [
  {
   "source": [
    "# Select, concatenate and add custom data to .csv files\n",
    "\n",
    "1. Make sure you are in the `data/` directory: `$ cd data`\n",
    "2. Concatenate Netherlands data in one .csv file: `$ awk 1 *.csv > netherlands-cities.csv`\n",
    "3. Use `ls` to see the files in the `data/` folder: `$ ls`\n",
    "4. Use `cat` to check out the contents of the newly created `netherlands-cities.csv`: `$ cat netherlands-cities.csv`\n",
    "\n",
    "## Add road data to `netherlands-cities.csv`\n",
    "\n",
    "1. Open the `netherlands-cities.csv` file with nano: `$ nano netherlands-cities.csv`\n",
    "2. Add the following lines to the netherlands-cities.csv file:\n",
    "\n",
    "    r,Amsterdam,Rotterdam\n",
    "\n",
    "    r,Rotterdam,Utrecht\n",
    "\n",
    "    r,Amsterdam,Utrecht\n",
    "\n",
    "    r,The-Hague,Rotterdam\n",
    "\n",
    "\n",
    "3. Press shift + control + O to \"WriteOut\" the file (save it). Nano will ask you if you want to save this file with the same name, and we do, so press enter. You can then press shift + control + X to exit the Nano text editor and get back to your bash shell.\n",
    "\n",
    "Check out the contents of your file to see that it has been updated: `$ cat netherlands-cities.csv`"
   ],
   "cell_type": "markdown",
   "metadata": {}
  },
  {
   "cell_type": "code",
   "execution_count": null,
   "metadata": {},
   "outputs": [],
   "source": []
  }
 ]
}