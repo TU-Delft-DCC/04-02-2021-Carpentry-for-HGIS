{
 "metadata": {
  "language_info": {
   "codemirror_mode": {
    "name": "ipython",
    "version": 3
   },
   "file_extension": ".py",
   "mimetype": "text/x-python",
   "name": "python",
   "nbconvert_exporter": "python",
   "pygments_lexer": "ipython3",
   "version": 3
  },
  "orig_nbformat": 2
 },
 "nbformat": 4,
 "nbformat_minor": 2,
 "cells": [
  {
   "source": [
    "# Run map.py on oregonmap.csv\n",
    "\n",
    "Python is already installed on your computer from the Anaconda all-in-one installer. We can give Python commands directly in the command line by using a specific format that always starts with its name: \n",
    "\n",
    "1. Change directory to `py_workshop_2021/scripts`: `cd ../scripts` \n",
    "2. Tell python to run the map.py script on the oregonmap.csv file: `python map.py ../data/oregonmap.csv`\n",
    "\n",
    "Check out the map - bet it is the first map you've ever seen a turtle draw!\n",
    "\n",
    "The `californiamap.csv` file also works with the map.py script. Try drawing a map from californiamap.csv on your own.\n",
    "\n",
    "(Answer: `python map.py ../data/californiamap.csv`)\n",
    "\n",
    "# Working with Jupyter Notebooks in Jupyter Lab\n",
    "\n",
    "Executing code in a python interpreter or directly from the command line is useful, but we also want a way to edit and annotate code and go through some process of trial and error when we're solving problems on our own. Anaconda installed JupyterLab, which is a web-based interactive development environment for Jupyter notebooks, code, and data. The Jupyter Notebook is an open-source web application that allows you to create and share documents that contain live code, equations, visualizations and narrative text. Uses include: data cleaning and transformation, numerical simulation, statistical modeling, data visualization, machine learning, and much more. ([source](https://jupyter.org/#:~:text=JupyterLab%20is%20a%20web%2Dbased,scientific%20computing%2C%20and%20machine%20learning.)).\n",
    "\n",
    "You can launch Jupyter Lab from your command line from within the folder you want to work in. In this case, we want to create our first Jupyter notebook in the `py_workshop_2021/` folder.\n",
    "\n",
    "1. Make sure you are in the `py_workshop_2021/` folder. If you were in scripts, move up one: `cd ..`\n",
    "2. Launch Jupyter Lab: `jupyter lab`\n",
    "\n",
    "You will see a browser window open - this is your local browser, so you will see files in the `py_workshop_2021/` folder there. \n",
    "\n",
    "1. Create a new Jupyter Notebook with a Python 3 kernel by clicking on the icon at the top of the screen. \n",
    "2. \n",
    "3. \n",
    "\n",
    "\n",
    "\n"
   ],
   "cell_type": "markdown",
   "metadata": {}
  }
 ]
}