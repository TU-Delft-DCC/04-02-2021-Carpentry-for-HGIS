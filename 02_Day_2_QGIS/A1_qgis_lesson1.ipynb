{
 "metadata": {
  "language_info": {
   "codemirror_mode": {
    "name": "ipython",
    "version": 3
   },
   "file_extension": ".py",
   "mimetype": "text/x-python",
   "name": "python",
   "nbconvert_exporter": "python",
   "pygments_lexer": "ipython3",
   "version": 3
  },
  "orig_nbformat": 2
 },
 "nbformat": 4,
 "nbformat_minor": 2,
 "cells": [
  {
   "source": [
    "# Programmatically access the attributes of international airports\n",
    "\n",
    "This part of the lesson material is meant to be run as a demonstration, so there is no need to get ready with hands-on following along. However, if you are interested the data and scripts used in this lesson are in the 'qgis/' folder that was included in the 'pre_workshop_files/' folder.\n",
    "\n",
    "1. Open QGIS and use the left side menu to navigate to Natural Earth datasets (airports and countries). Drag and drop both to the mapping view.\n",
    "2. Use info button to show attributes of each airport (feature), pointing out name and iata_code as we will be saving those).\n",
    "3. Open the Python console either from the plugins menu or the button on the header menu."
   ],
   "cell_type": "markdown",
   "metadata": {}
  },
  {
   "cell_type": "code",
   "execution_count": null,
   "metadata": {},
   "outputs": [],
   "source": [
    "# 4. Save the airports dataset as a variable called layer: \n",
    "\n",
    "layer = iface.activeLayer()"
   ]
  },
  {
   "source": [
    "# 5. Change the shape and color of the symbols representing airports:\n",
    "\n",
    "symbol = QgsMarkerSymbol.createSimple({'name': 'cross', 'color': 'black'})\n",
    "layer.renderer().setSymbol(symbol)\n",
    "layer.triggerRepaint()"
   ],
   "cell_type": "code",
   "metadata": {},
   "execution_count": null,
   "outputs": []
  },
  {
   "cell_type": "code",
   "execution_count": null,
   "metadata": {},
   "outputs": [],
   "source": [
    "# 6. For loop that prints the name and iata_code for each airport on the list, using the function getFeatures that allows you to reference all features of a layer. In this case, the features are airports (point data). \n",
    "\n",
    "for f in layer.getFeatures():\n",
    "  print(f\"{f['name']}, {f['iata_code']}\")"
   ]
  },
  {
   "cell_type": "code",
   "execution_count": null,
   "metadata": {},
   "outputs": [],
   "source": [
    "#  7. Access the coordinates of the feature (airport) using the geometry function. Returns a geometry object that we can store in a variable called geom. The asPoint() function gets the x and y coordinates of the point. \n",
    "\n",
    "for f in layer.getFeatures():\n",
    "  geom = f.geometry()\n",
    "  print(geom.asPoint())"
   ]
  },
  {
   "cell_type": "code",
   "execution_count": null,
   "metadata": {},
   "outputs": [],
   "source": [
    "# 8. Print the name, iata_code, lat and long of each of the airports. The .2f truncates lat and long to 2 decimal places:\n",
    "\n",
    "for f in layer.getFeatures():\n",
    "  geom = f.geometry()\n",
    "  print(f\"{f['name']}, {f['iata_code']}, ({geom.asPoint().y():.2f},{geom.asPoint().x():.2f})\")"
   ]
  },
  {
   "cell_type": "code",
   "execution_count": null,
   "metadata": {},
   "outputs": [],
   "source": [
    "# 9. Store the output in a csv file instead of printing it in the console. To do this step on your own, need to replace your file path. \n",
    "\n",
    "with open(\"/Users/acryan/Desktop/airports.csv\",\"w\") as output_file:\n",
    "    for f in layer.getFeatures():\n",
    "        geom = f.geometry()\n",
    "        line = f\"{f['name']},{f['iata_code']},{geom.asPoint().y():.2f},{geom.asPoint().x():.2f}\\n\"\n",
    "        o=output_file.write(line)"
   ]
  },
  {
   "source": [
    "At this point there should be a file called `airports.csv` on the Desktop. This file can be used as an input for a next analysis step or stored as supplementary material for a project or manuscript. It's a lot easier than copy and pasting that information from a database or website! :) \n",
    "\n",
    "## Saving a Python script for QGIS\n",
    "\n",
    "Whenever possible, it's good practice to document exactly how you generated data. In this case you can do that by showing how you created the subset of data - since we used code, we can save it as a script that anyone else could use to produce the same results (the airports.csv file).\n",
    "\n",
    "1. Open the Code Editor\n",
    "2. Copy and paste the last command into the Code Editor \n",
    "3. Save it as a script called airport_codes.py"
   ],
   "cell_type": "markdown",
   "metadata": {}
  },
  {
   "source": [
    "## Working with a Python script from someone else\n",
    "\n",
    "1. Open a script by clicking the folder icon in the Code Editor\n",
    "2. Choose gis_button.py, which adds a hyperlink to the GIS StackExchange website to your help menu\n",
    "3. Hit the \"play\" button - easy!\n",
    "\n",
    "Because QGIS is written in Python, you can also change things about your actual program using Python code. This one seemed particularly useful."
   ],
   "cell_type": "markdown",
   "metadata": {}
  },
  {
   "cell_type": "code",
   "execution_count": null,
   "metadata": {},
   "outputs": [],
   "source": [
    "# code for gis_button.py \n",
    "\n",
    "import webbrowser\n",
    "\n",
    "def open_website():\n",
    "    webbrowser.open('https://gis.stackexchange.com')\n",
    "\n",
    "website_action = QAction('Go to gis.stackexchange')\n",
    "website_action.triggered.connect(open_website)\n",
    "iface.helpMenu().addSeparator()\n",
    "iface.helpMenu().addAction(website_action)"
   ]
  },
  {
   "source": [
    "Helpful links:\n",
    "- https://docs.qgis.org/3.16/en/docs/user_manual/processing/scripts.html\n",
    "- https://courses.spatialthoughts.com/pyqgis-in-a-day.html#where-can-you-use-python-in-qgis"
   ],
   "cell_type": "markdown",
   "metadata": {}
  }
 ]
}