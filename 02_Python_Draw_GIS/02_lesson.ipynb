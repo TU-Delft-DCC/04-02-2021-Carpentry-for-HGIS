{
 "cells": [
  {
   "cell_type": "markdown",
   "metadata": {},
   "source": [
    "# Variables (and constants)\n",
    "Explain what are variables, and what should the learner know about variables.\n",
    "\n",
    "In computer programming, a variable or scalar is a storage location (identified by a memory address) paired with an associated **symbolic name**, which contains some known or unknown quantity of information referred to as a value.\n",
    "\n",
    "## Nice references for instructor\n",
    "- [What is a Variable?](https://stevenpcurtis.medium.com/what-is-a-variable-3447ac1331b9)\n",
    "- [Variables wikipedia](https://www.google.com/search?q=what+is+a+variable+in+programming&rlz=1C1GCEU_nlNL866NL866&oq=what+is+a+variable+in&aqs=chrome.0.0l3j69i57j0i20i263j0l5.3869j0j1&sourceid=chrome&ie=UTF-8)\n",
    "\n",
    "\n"
   ]
  },
  {
   "cell_type": "markdown",
   "metadata": {},
   "source": [
    "## Exercise, working with variables\n",
    "- Identify with students different data types in the `map.py` script.\n",
    "- Create variables that represent Delft characteristics as a city.Think of characteristics that you can express with different data types (integers, strings, arrays)\n",
    "- Print formmated data about the city to display these variables in the python interpreter.\n",
    "- Create a list of cities in the Netherlands. \n",
    "    This should be a python list containing all cities.\n",
    "\n",
    "- print user friendly outputs with the print function\n"
   ]
  },
  {
   "cell_type": "markdown",
   "metadata": {},
   "source": [
    "##  Data types\n",
    "- Strings\n",
    "- Numbers (integers and floats)\n",
    "- Lists\n",
    "- Dictionaries\n",
    "- Objects\n",
    "\n",
    "## Storing different data types\n",
    "We can use variables to store all sorts of different types of data.\n",
    "We might be limited by our programming language, but as shown above Integers, Floats, Characters and Strings are certainly options to be stored in a variable.\n",
    "\n",
    "![](https://miro.medium.com/max/875/1*Px7h03Ih7B5QZu4KQpSEoQ.png)\n",
    " \n",
    "## Instructor demonstrates these different data types using the python interpreter"
   ]
  },
  {
   "cell_type": "code",
   "execution_count": null,
   "metadata": {},
   "outputs": [],
   "source": [
    "'''\n",
    "Run these commands step by step on the intepreter\n",
    "'''\n",
    "new_city = City(['c','Havana',-133.996669,190.000000,9500])\n",
    "## check types (no need to use print in the python shell)\n",
    "print(type(new_city))\n",
    "\n",
    "## Explain the object stored in memory\n",
    "print(new_city)\n",
    "## Print a property of the city\n",
    "print(new_city.name)"
   ]
  },
  {
   "cell_type": "markdown",
   "metadata": {},
   "source": [
    "## Excercise, exploring objects and data types in the given code\n",
    "Demonstrate how to work with objects\n",
    "- Create a city object from the given class\n",
    "- Inspect the city object created\n",
    "- Modify a city object\n",
    "- Create a map object\n",
    "- Inspect the dictionary inside the map object\n",
    "\n",
    "\n",
    "### For this exercise the instructor needs to know Python Objects and Classes\n",
    "> **Why is important to know about objects?** Everything is an object in python and most operations done by users involve using libraries(objects), using methods and attributes.\n",
    "\n",
    "> Python is an object oriented programming language. Unlike procedure oriented programming, where the main emphasis is on functions, object oriented programming stresses on objects.An object is simply a collection of data (variables) and methods (functions) that act on those data. Similarly, a class is a blueprint for that object. We can think of class as a sketch (prototype) of a house. It contains all the details about the floors, doors, windows etc. Based on these descriptions we build the house. House is the object.\n"
   ]
  },
  {
   "cell_type": "code",
   "execution_count": null,
   "metadata": {},
   "outputs": [],
   "source": [
    "'''\n",
    "These commands are meant to be used first in the python interpreter\n",
    "'''\n",
    "## Skip first this step and look at the error\n",
    "from map import City\n",
    "\n",
    "# 1. Skip this step and only doing after reflecting on error\n",
    "# from map import Map\n",
    "\n",
    "# 2. Create a city object from the given class\n",
    "new_city = City(['c', 'Havana', 0.1, 2.6, 100000])\n",
    "\n",
    "## 3. Inspect a city object\n",
    "print(new_city.name)\n",
    "\n",
    "## Create a map object\n",
    "new_map = Map('oregonmap.csv')\n",
    "\n",
    "## Inspect the Map "
   ]
  }
 ],
 "metadata": {
  "kernelspec": {
   "display_name": "Python 3",
   "language": "python",
   "name": "python3"
  },
  "language_info": {
   "codemirror_mode": {
    "name": "ipython",
    "version": 3
   },
   "file_extension": ".py",
   "mimetype": "text/x-python",
   "name": "python",
   "nbconvert_exporter": "python",
   "pygments_lexer": "ipython3",
   "version": "3.8.3-final"
  }
 },
 "nbformat": 4,
 "nbformat_minor": 2
}