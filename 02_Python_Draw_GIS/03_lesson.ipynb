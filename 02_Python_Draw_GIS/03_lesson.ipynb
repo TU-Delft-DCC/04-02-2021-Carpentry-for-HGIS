{
 "cells": [
  {
   "cell_type": "markdown",
   "metadata": {},
   "source": [
    "# Go from for loops and while loops to functions\n",
    "> **The main idea behind this section**. Reusing instructions (programmatic operations and instructions, storing instruction on files(scripts), and reusing functions)\n",
    "\n",
    "> **How to run this section?** Build up the need of using multipline commands, to source files, to functions (Demonstrate by example what reusability means in this section, this is where functions come into place)Reflect on the notion of objects\n",
    "\n",
    "In order to work with python built in IDLE do `py -3 -m idlelib`\n"
   ]
  },
  {
   "cell_type": "markdown",
   "metadata": {},
   "source": [
    "## Excercise, drawing polygons with turtle\n",
    "This excercise also aims to show the "
   ]
  },
  {
   "cell_type": "code",
   "execution_count": 8,
   "metadata": {
    "tags": []
   },
   "outputs": [
    {
     "output_type": "stream",
     "name": "stdout",
     "text": [
      "[-26.565051177077976, 56.30993247402022, 63.43494882292201, 105.52411099675427, 38.65980825409009]\n"
     ]
    }
   ],
   "source": [
    "import turtle\n",
    "from polygon import sort_points, get_angle\n",
    "## Explain differences\n",
    "# from turtle import * \n",
    "\n",
    "## Explain how to use the help()\n",
    "# help(turtle)\n",
    "\n",
    "## Excercise: \n",
    "# Do this first manually\n",
    "# turtle.shape(\"turtle\")\n",
    "# turtle.forward(100)\n",
    "# turtle.setheading(90)\n",
    "# turtle.forward(100)\n",
    "# turtle.setheading(180)\n",
    "# turtle.forward(100)\n",
    "# turtle.setheading(270)\n",
    "# turtle.forward(100)\n",
    "\n",
    "## Do it then with a for loop\n",
    "## Explain the need for a foor loop\n",
    "# length = 100\n",
    "# directions = [0,90,180,270]\n",
    "# for dir in directions:\n",
    "#     turtle.setheading(dir)\n",
    "#     turtle.forward(length)\n",
    "\n",
    "## Example of a function\n",
    "## triangle = [[a_side, C_angle], [b_side, A_angle], [c_side, B_angle]]\n",
    "def draw_triangle(triangle):\n",
    "    for entry in triangle:\n",
    "        print(entry[0])\n",
    "        turtle.forward(entry[0])\n",
    "        turtle.left(entry[1])\n",
    "\n",
    "\n",
    "\n",
    "## Excercise: \n",
    "## Building a polygon with a better data model\n",
    "def draw_polygon(coordinates):\n",
    "    '''\n",
    "    By doing myself this excercise I figured out problems to solve\n",
    "    like for instance the if statement at the end of the function\n",
    "    '''\n",
    "    angle_list = []\n",
    "    for point in coordinates:\n",
    "        angle_list.append(get_angle(point))\n",
    "\n",
    "    print(angle_list)\n",
    "\n",
    "    turtle.penup()\n",
    "    count = 0\n",
    "    for coord in coordinates:\n",
    "        count += 1 \n",
    "        turtle.goto(coord[0], coord[1])\n",
    "        turtle.pendown()\n",
    "        # turtle.circle(5)\n",
    "        # turtle.penup()\n",
    "        if(count == len(coordinates)):\n",
    "            turtle.goto(coordinates[0][0], coordinates[0][1])\n",
    "\n",
    "\n",
    "def draw_better(coordinates):\n",
    "    coordinates = sort_points(coordinates)\n",
    "    draw_polygon(coordinates)\n",
    "\n",
    "## Another triangle data model\n",
    "## A polygon model\n",
    "##   Latitude,Longitude\n",
    "##   [[51.984338,4.136685],\n",
    "##   [51.852919,5.290831],\n",
    "##   [52.861383,5.024489]]\n",
    "draw_coordinates()\n",
    "polygon = [[300,-150],[20,30],[100,200],[-50,180], [100,80]]\n",
    "## Explain this example first and why is it so bad\n",
    "# draw_triangle([[100,100],[264,19],[300,60]])\n",
    "# draw_triangle([[100,100],[264,180-19],[300,60]])\n",
    "\n",
    "## Explain these example and the data model and why is better.\n",
    "# draw_polygon([[20,30],[100,200],[-50,180],[300,-150]])\n",
    "draw_polygon(polygon)\n",
    "# print(polygon)\n",
    "# print(sort_points(polygon))\n",
    "# draw_polygon([[-50,180],[100,200],[300,-150],[20,30]])\n",
    "\n",
    "turtle.exitonclick()\n"
   ]
  },
  {
   "cell_type": "code",
   "execution_count": 9,
   "metadata": {},
   "outputs": [],
   "source": [
    "import turtle\n",
    "def draw_coordinates():\n",
    "    turtle.goto(0,300)\n",
    "    turtle.goto(0,-300)\n",
    "    turtle.penup()\n",
    "    turtle.goto(0,0)\n",
    "    turtle.pendown()\n",
    "    turtle.goto(300,0)\n",
    "    turtle.goto(-300,0)"
   ]
  },
  {
   "cell_type": "code",
   "execution_count": 10,
   "metadata": {},
   "outputs": [
    {
     "output_type": "error",
     "ename": "Terminator",
     "evalue": "",
     "traceback": [
      "\u001b[1;31m---------------------------------------------------------------------------\u001b[0m",
      "\u001b[1;31mTerminator\u001b[0m                                Traceback (most recent call last)",
      "\u001b[1;32m<ipython-input-10-0310d5772ca9>\u001b[0m in \u001b[0;36m<module>\u001b[1;34m\u001b[0m\n\u001b[0;32m      1\u001b[0m \u001b[1;32mimport\u001b[0m \u001b[0mturtle\u001b[0m\u001b[1;33m\u001b[0m\u001b[1;33m\u001b[0m\u001b[0m\n\u001b[0;32m      2\u001b[0m \u001b[1;32mfrom\u001b[0m \u001b[0mpolygon\u001b[0m \u001b[1;32mimport\u001b[0m \u001b[1;33m*\u001b[0m\u001b[1;33m\u001b[0m\u001b[1;33m\u001b[0m\u001b[0m\n\u001b[1;32m----> 3\u001b[1;33m \u001b[0mturtle\u001b[0m\u001b[1;33m.\u001b[0m\u001b[0mspeed\u001b[0m\u001b[1;33m(\u001b[0m\u001b[1;36m2\u001b[0m\u001b[1;33m)\u001b[0m\u001b[1;33m\u001b[0m\u001b[1;33m\u001b[0m\u001b[0m\n\u001b[0m\u001b[0;32m      4\u001b[0m \u001b[1;32mdef\u001b[0m \u001b[0mdraw_polygon\u001b[0m\u001b[1;33m(\u001b[0m\u001b[0mcoordinates\u001b[0m\u001b[1;33m)\u001b[0m\u001b[1;33m:\u001b[0m\u001b[1;33m\u001b[0m\u001b[1;33m\u001b[0m\u001b[0m\n\u001b[0;32m      5\u001b[0m \u001b[1;33m\u001b[0m\u001b[0m\n",
      "\u001b[1;32m~\\Anaconda3\\lib\\turtle.py\u001b[0m in \u001b[0;36mspeed\u001b[1;34m(speed)\u001b[0m\n",
      "\u001b[1;31mTerminator\u001b[0m: "
     ]
    }
   ],
   "source": [
    "import turtle\n",
    "from polygon import *\n",
    "turtle.speed(2)\n",
    "def draw_polygon(coordinates):\n",
    "\n",
    "    # To properly draw the polygon we need to center the centroid\n",
    "    # Into the turtle coordinate system\n",
    "    center = centroid(coordinates)\n",
    "    for idx, point in enumerate(coordinates):\n",
    "        coordinates[idx][0] = coordinates[idx][0] - center[0]\n",
    "        coordinates[idx][1] = coordinates[idx][1] - center[1]\n",
    "\n",
    "    coordinates = sort_points(coordinates)\n",
    "    print(list_ordered_angles(coordinates))\n",
    "    print(sort_points(coordinates))\n",
    "\n",
    "    turtle.penup()\n",
    "    count = 0\n",
    "    for coord in coordinates:\n",
    "        count += 1 \n",
    "        turtle.goto(coord[0], coord[1])\n",
    "        turtle.pendown()\n",
    "        \n",
    "        # Close the polygon by going back to the first point in the list\n",
    "        if(count == len(coordinates)):\n",
    "            turtle.goto(coordinates[0][0], coordinates[0][1])\n",
    "    \n",
    "draw_coordinates()\n",
    "\n",
    "## Examples of polygons\n",
    "# polygon = [[-50,180],[20,30],[100,200],[300,-150], [400,100]] # Working\n",
    "# polygon = [[50,10],[30,20],[10,50], [40,60]] # Working\n",
    "# polygon = [[-50,180],[20,30],[100,200],[300,-150], [400,100],[300,300]] # Working\n",
    "# polygon = [[-50,180],[20,30],[100,200],[300,-150], [400,100],[300,300],[100,30],[-400,-200],[70,55], [30,40],[12,13]]\n",
    "# polygon = [[-100,80],[200,150],[140,-30],[-60,-80]]\n",
    "polygon = [[300,-150],[20,30],[100,200],[-50,180], [100,80]]\n",
    "\n",
    "\n",
    "\n",
    "draw_polygon(polygon)\n",
    "turtle.exitonclick()\n",
    "\n",
    "\n"
   ]
  },
  {
   "cell_type": "markdown",
   "metadata": {},
   "source": [
    "## Excercise, combining functions and object orientation \n",
    "- Calculate the total population in the dataset\n",
    "- Calculate the biggest city in the dataset\n",
    "- Make a script file with a function where you calculate to reuse this calculation."
   ]
  }
 ],
 "metadata": {
  "kernelspec": {
   "display_name": "Python 3",
   "language": "python",
   "name": "python3"
  },
  "language_info": {
   "codemirror_mode": {
    "name": "ipython",
    "version": 3
   },
   "file_extension": ".py",
   "mimetype": "text/x-python",
   "name": "python",
   "nbconvert_exporter": "python",
   "pygments_lexer": "ipython3",
   "version": "3.8.3"
  }
 },
 "nbformat": 4,
 "nbformat_minor": 2
}