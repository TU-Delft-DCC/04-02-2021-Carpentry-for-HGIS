{
 "metadata": {
  "language_info": {
   "codemirror_mode": {
    "name": "ipython",
    "version": 3
   },
   "file_extension": ".py",
   "mimetype": "text/x-python",
   "name": "python",
   "nbconvert_exporter": "python",
   "pygments_lexer": "ipython3",
   "version": 3
  },
  "orig_nbformat": 2
 },
 "nbformat": 4,
 "nbformat_minor": 2,
 "cells": [
  {
   "source": [
    "# Fork and clone a repository from GitHub\n",
    "\n",
    "## Set up Git configuration settings\n",
    "\n",
    "1. Open up your terminal or GitBash command prompt to configure your Git global settings:\n",
    "2. Your name: `$ git config --global user.name \"<insert your name here>\"`\n",
    "3. Your email address: `$ git config --global user.email \"<insert your email here>\"` **should be the same as the one used when setting up your GitHub account.**\n",
    "4. Your preferred text editor: `$ git config --global core.editor \"nano -w\"`\n",
    "5. Check your settings: `$ git config --list`\n",
    "\n",
    "## Fork the [Gizmo Python challenges repository](https://github.com/aecryan/gizmo) on GitHub\n",
    "\n",
    "1. Sign into your account on GitHub\n",
    "2. Go to this repository url: https://github.com/aecryan/gizmo\n",
    "2. On the top right of the repository, find the small gray button that says \"Fork\". Click this button to fork the repository (create a copy) in your own account.\n",
    "\n",
    "## Clone the forked copy of the Gizmo Python challenges repository to your local computer\n",
    "\n",
    "1. Click the green button near the top of the screen that says \"Code\". We will use HTTPS to connect between the remote repository and our local machine.\n",
    "2. Copy the link under HTTPS heading \n",
    "3. In your terminal/command prompt change directory to your Desktop: `cd Desktop`\n",
    "4. Clone the repository to your Desktop: `git clone https://github.com/aecryan/gizmo.git`. You will see a new folder appear on your desktop called \"gizmo\". \n",
    "\n",
    "## Explore .git folder and local git repo\n",
    "\n",
    "1. Enter the new repository folder: `cd gizmo`\n",
    "2. Check out its contents including hidden files/directories: `ls -a`\n",
    "3. Notice the . git folder which contains all the information that is necessary for your project in version control and all the information about commits, remote repository address, etc.\n",
    "4. See how Git stores your credentials that were set up earlier: `cd .git` , `cat config`. \n",
    "5. Move back to the main gizmo folder: `cd ..` \n",
    "6. Check the files that are in the gizmo directory: `ls` There are two files, README.md and titanic.csv. These are the same files as are on GitHub. There is also a .gitignore file. \n",
    "7. See the remote connection: `git remote -v`\n",
    "\n",
    "\n"
   ],
   "cell_type": "markdown",
   "metadata": {}
  },
  {
   "source": [
    "\n",
    "\n"
   ],
   "cell_type": "markdown",
   "metadata": {}
  }
 ]
}