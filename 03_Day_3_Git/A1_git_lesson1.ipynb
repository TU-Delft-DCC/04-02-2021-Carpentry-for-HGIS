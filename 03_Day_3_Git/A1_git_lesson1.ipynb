{
 "metadata": {
  "language_info": {
   "codemirror_mode": {
    "name": "ipython",
    "version": 3
   },
   "file_extension": ".py",
   "mimetype": "text/x-python",
   "name": "python",
   "nbconvert_exporter": "python",
   "pygments_lexer": "ipython3",
   "version": 3
  },
  "orig_nbformat": 2
 },
 "nbformat": 4,
 "nbformat_minor": 2,
 "cells": [
  {
   "source": [
    "# Fork and clone a repository from GitHub\n",
    "\n",
    "## Set up Git configuration settings\n",
    "\n",
    "When we use Git on a new computer for the first time, we need to configure a few things. This is done in your terminal or GitBash command prompt.\n",
    "\n",
    "1. Your name: `$ git config --global user.name \"<insert your name here>\"`\n",
    "2. Your email address: `$ git config --global user.email \"<insert your email here>\"`\n",
    "    \n",
    "    For these lessons, we will be interacting with GitHub and so the email address used should be the same as the one       used when setting up your GitHub account.\n",
    "3. Your preferred text editor: `$ git config --global core.editor \"nano -w\"`\n",
    "4. Check your settings: `$ git config --list`\n",
    "\n",
    "## Fork the [Gizmo Python challenges repository](https://github.com/aecryan/gizmo) on GitHub\n",
    "\n",
    "- On the top right of GitHub website, find the small gray button that says \"Fork\". \n",
    "- Click this button to fork the repository (create a copy) in your own account.\n",
    "\n",
    "## Clone the forked copy of the Gizmo Python challenges repository to your local computer\n",
    "- green button near the top of the screen that says \"Code\". We will use HTTPS today but you can configure SSH later which stores your keys for a private connection. Both are secure, this one is just ready. \n",
    "- copy the link that is created under HTTPS heading \n",
    "- in your terminal, `cd Desktop`.\n",
    "- `git clone https://github.com/aecryan/gizmo.git`\n",
    "- You will see a new folder appear on your desktop called gizmo. This contains all the same contents as the remote repository - it is now a local version unique to you. You can make changes here that will not be reflected in the remote version until you tell git to incorporate them to GitHub by \"pushing\"\n",
    "\n",
    "## Explore .git folder and local git repo\n",
    "- `cd gizmo`\n",
    "- what is a .git folder and how to see it `ls -a`\n",
    "The . git folder contains all the information that is necessary for your project in version control and all the information about commits, remote repository address, etc. All of them are present in this folder. It also contains a log that stores your commit history so that you can roll back to history.\n",
    "- `cd .git` , `cat config`. Show your credentials that were set up earlier when we stored name and email address associated with git. \n",
    "- `cd gizmo` , `ls` - what is the relationship between local and remote repositories? can see there are two files, README.md and titanic.csv. These are the same files as are on GitHub. There is also a .gitignore file which can be found by showing hidden files, you can `cat .gitignore` and see that it is ignoring anything with __pycache__, tags or .pytest_cache in the name.\n",
    "\n",
    "\n"
   ],
   "cell_type": "markdown",
   "metadata": {}
  },
  {
   "source": [
    "\n",
    "\n"
   ],
   "cell_type": "markdown",
   "metadata": {}
  }
 ]
}