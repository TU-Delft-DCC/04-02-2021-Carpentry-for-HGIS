{
 "metadata": {
  "language_info": {
   "codemirror_mode": {
    "name": "ipython",
    "version": 3
   },
   "file_extension": ".py",
   "mimetype": "text/x-python",
   "name": "python",
   "nbconvert_exporter": "python",
   "pygments_lexer": "ipython3",
   "version": 3
  },
  "orig_nbformat": 2
 },
 "nbformat": 4,
 "nbformat_minor": 2,
 "cells": [
  {
   "source": [
    "# Create a new branch and Python file\n",
    "\n",
    "## Make a new branch \n",
    "- why do we use branches with Git and GitHub?\n",
    "- `git checkout -b <yourname>`\n",
    "- Get a message: Switched to a new branch 'yourname'\n",
    "- `git branch` - you will see two branches, master and the one you named, which should be highlighted and have a little asterisk next to it. We can make changes in this branch that will not be a part of the master branch. If you do `ls` you will see the same files README.md and titanic.csv.\n",
    "\n",
    "## Make a new file called gizmo.py (a python script) and try a python challenge 2\n",
    "- `nano gizmo.py` this will create and enter the editor in one step.\n",
    "- define a function that takes two arguments, name and country, and prints the message, Hello <name>, how are things going in <country>? The country should default to Finland (Exercise 2 from Gizmo)\n",
    "- answer: \n",
    "def hello(name, country='Finland'):\n",
    "  print(\"Hello \"+ name + \",\"+\" how are things in \"+ country + \"?\"))\n",
    "- get to the python ide by typing `python` in Mac terminal\n",
    "- run `import gizmo` to import the new gizmo module you just created and let python access the new function\n",
    "- run `gizmo.hello('Your Name', 'Your Country')` this should print the right message"
   ],
   "cell_type": "markdown",
   "metadata": {}
  }
 ]
}