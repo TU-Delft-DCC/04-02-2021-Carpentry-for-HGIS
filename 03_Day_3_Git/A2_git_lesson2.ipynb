{
 "metadata": {
  "language_info": {
   "codemirror_mode": {
    "name": "ipython",
    "version": 3
   },
   "file_extension": ".py",
   "mimetype": "text/x-python",
   "name": "python",
   "nbconvert_exporter": "python",
   "pygments_lexer": "ipython3",
   "version": 3
  },
  "orig_nbformat": 2
 },
 "nbformat": 4,
 "nbformat_minor": 2,
 "cells": [
  {
   "source": [
    "# Create a new branch and gizmo.py file\n",
    "\n",
    "## Make a new branch \n",
    "\n",
    "1. Create a new branch and give it your name: `git checkout -b <yourname>`. You will get a message: Switched to a new branch 'yourname'\n",
    "2. Check which branch you are on: `git branch`. You will see two branches, master and the one you named, which should be highlighted and have a little asterisk next to it. \n",
    "3. See that the same files are in this new branch: `ls` (README.md and titanic.csv).\n",
    "\n",
    "## Make a new file called gizmo.py (a python script) and try Python challenge 2\n",
    "1. Create a new file called gizmo.py: `nano gizmo.py`. This will create and enter the editor in one step.\n",
    "2. Define a function that takes two arguments, name and country, and prints the message, Hello '<name>', how are things in '<country>'? The country should default to Finland (see Exercise 2 from Gizmo Python challenges repository).\n",
    "answer: \n",
    "def hello(name, country='Finland'):\n",
    "  print(\"Hello \"+ name + \",\"+\" how are things in \"+ country + \"?\"))\n",
    "3. Open your Python intepreter: in Mac, type `python` in terminal\n",
    "4. Import the new gizmo module you just created: `import gizmo` \n",
    "5. Print a custom message by running: `gizmo.hello('Your Name', 'Your Country')`"
   ],
   "cell_type": "markdown",
   "metadata": {}
  }
 ]
}