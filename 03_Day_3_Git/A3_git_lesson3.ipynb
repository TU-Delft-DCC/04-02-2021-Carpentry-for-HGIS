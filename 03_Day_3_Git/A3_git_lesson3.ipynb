{
 "metadata": {
  "language_info": {
   "codemirror_mode": {
    "name": "ipython",
    "version": 3
   },
   "file_extension": ".py",
   "mimetype": "text/x-python",
   "name": "python",
   "nbconvert_exporter": "python",
   "pygments_lexer": "ipython3",
   "version": 3
  },
  "orig_nbformat": 2
 },
 "nbformat": 4,
 "nbformat_minor": 2,
 "cells": [
  {
   "source": [
    "## Add and commit changes to local git repository\n",
    "- run `git status` - this should show that you have one new untracked file, gizmo.py. See the message that you can use `git add <filename>` to add this file to the staging area. If you are working with more than one file at a time, you can also use `git add .` to add them all to the staging area at the same time.\n",
    "- `git add gizmo.py`\n",
    "- what is the staging area and how does it relate to tracking changes?\n",
    "- `git status` - shows you which branch you are on, and new message indicating changes will be committed for new file: gizmo.py\n",
    "- `git commit -m \"defined hello function in gizmo.py\"`\n",
    "- what is a commit message and how to write a good one?\n",
    "- `git status` - which branch you are on, nothing to commit, working tree clean.\n",
    "\n",
    "## Recap\n",
    "\n",
    "To recap, the workflow for adding and committing changes to files using Git is:\n",
    "\n",
    "1. `$ git status` to see the files that have been changed and are awaiting commit\n",
    "2. `$ git add <file_name>` to add one file at a time to the staging area or `$ git add .` to add all files that have been changed since the last commit\n",
    "3. `$ git commit -m \"<descriptive message>\"` to commit the latest version of file(s) and describe the nature of the changes made\n",
    "\n",
    "- `git status` - shows you which branch you are on, and new message indicating changes will be committed for new file: gizmo.py\n",
    "- `git commit -m \"defined hello function in gizmo.py\"`\n",
    "- what is a commit message and how to write a good one?\n",
    "- `git status` - which branch you are on, nothing to commit, working tree clean.\n"
   ],
   "cell_type": "markdown",
   "metadata": {}
  }
 ]
}