{
 "metadata": {
  "language_info": {
   "codemirror_mode": {
    "name": "ipython",
    "version": 3
   },
   "file_extension": ".py",
   "mimetype": "text/x-python",
   "name": "python",
   "nbconvert_exporter": "python",
   "pygments_lexer": "ipython3",
   "version": 3
  },
  "orig_nbformat": 2
 },
 "nbformat": 4,
 "nbformat_minor": 2,
 "cells": [
  {
   "source": [
    "# Ignoring things in Git\n",
    "\n",
    "What if we have files that we do not want Git to track for us, like backup files created by our editor or intermediate files created during data analysis? Putting these files under version control would be a waste of disk space. What’s worse, having them all listed could distract us from changes that actually matter, so let’s tell Git to ignore them.\n",
    "\n",
    "We do this by creating a file in the root directory (in this case, the `world_cities_workshop/` folder) of our project called .gitignore. We can use two shell commands, either `touch` or `nano` to create the file. If we use `nano`, the file will be created and opened with the nano editor in one step, but since it's empty and we still need to decide what to list in there, let's use `touch` to simply create the file. Make sure you are in the `world_cities_workshop/` folder (not any subfolder):\n",
    "\n",
    "`$ cd world_cities_workshop`\n",
    "\n",
    "And then run the command:\n",
    "\n",
    "`$ touch .gitignore`\n",
    "\n",
    "If you run `ls -a` now, you should see a new hidden file called `.gitignore` in your `world_cities_workshop/` folder. \n",
    "\n",
    "We can edit this file with nano and add the names of files or directories that we specifically want git to ignore and NOT track changes to. We don't need git to track changes to the `netherlands-cities.csv` file in the `world_cities_workshop/data/` folder, so let's tell git to ignore it. Open up the .gitignore file by running:\n",
    "\n",
    "`$ nano .gitignore`\n",
    "\n",
    "You should see a blank text document in your terminal window. We are going to add to it the name of the file we want to ignore, and we also need to specify the folder that it is in. In nano, type:\n",
    "\n",
    "`data/netherlands-cities.csv`\n",
    "\n",
    "Then hit shift + control + O to write out, enter to confirm, and shift + control + X to close nano and return to your shell. \n",
    "\n",
    "If you now run `cat .gitignore` you should see the line you just wrote as the contents of this file. You can also use the .gitignore file to ignore whole folders - for example if you are working with large amounts of data, image files, or other files that are either too large, unchanging, or otherwise not useful to be tracked with Git. You can also ignore all files of a certain type following the same pattern-matching strategy we used to select separate files that ended with `*-nl.csv`, or say, all `.jpg` files.\n",
    "\n",
    "Of course, since we created the .gitignore file after our last commit, we'll need to add it and commit it so that git knows about its existence and can start ignoring things according to the rules we set. We can do this the same way we added and committed changes to any other file, by:\n",
    "\n",
    "`$ git add .gitignore`\n",
    "\n",
    "`$ git commit -m \"added .gitignore file and ignored netherlands-cities.csv file\"`\n",
    "\n",
    "If you run `git status` now, you should see the same message that you are on branch \"master\", there is nothing to commit, and the working tree is clean."
   ],
   "cell_type": "markdown",
   "metadata": {}
  }
 ]
}