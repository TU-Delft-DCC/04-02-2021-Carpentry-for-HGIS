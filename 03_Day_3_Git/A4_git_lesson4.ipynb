{
 "metadata": {
  "language_info": {
   "codemirror_mode": {
    "name": "ipython",
    "version": 3
   },
   "file_extension": ".py",
   "mimetype": "text/x-python",
   "name": "python",
   "nbconvert_exporter": "python",
   "pygments_lexer": "ipython3",
   "version": 3
  },
  "orig_nbformat": 2
 },
 "nbformat": 4,
 "nbformat_minor": 2,
 "cells": [
  {
   "source": [
    "## Push changes to remote repository in GitHub\n",
    "- why do we have to push\n",
    "- try `git push` - get an error message because there is no branch in the remote repository called 'yourname' so it helpfully suggests we create one by set-upstream command\n",
    "- `git push --set-upstream origin <yourname>` - you should see a message that a 'Branch 'yourname' set up to track remote branch <yourname> from origin'\n",
    "- `git status` - your branch is up to date with 'origin/yourname' nothing to commit, working tree clean\n",
    "- from now on, any new changes can be added (`git add .`), committed (`git commit -m \"message\"`) and pushed to GitHub with `git push`\n",
    "- check on GitHub - you should see a message saying that changes were pushed less than a minute ago. \n",
    "- click on branches and show all, select 'yourname', here you should see a new file called gizmo.py that you created and if you click into it, you should see the function you defined."
   ],
   "cell_type": "markdown",
   "metadata": {}
  }
 ]
}