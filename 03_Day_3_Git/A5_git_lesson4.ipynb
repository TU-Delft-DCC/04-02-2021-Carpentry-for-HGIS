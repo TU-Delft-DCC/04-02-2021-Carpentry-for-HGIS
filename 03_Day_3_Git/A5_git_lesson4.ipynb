{
 "metadata": {
  "language_info": {
   "codemirror_mode": {
    "name": "ipython",
    "version": 3
   },
   "file_extension": ".py",
   "mimetype": "text/x-python",
   "name": "python",
   "nbconvert_exporter": "python",
   "pygments_lexer": "ipython3",
   "version": 3
  },
  "orig_nbformat": 2
 },
 "nbformat": 4,
 "nbformat_minor": 2,
 "cells": [
  {
   "source": [
    "# Remote collaboration on GitHub\n",
    "\n",
    "## Relationship between local and remote repositories\n",
    "\n",
    "Version control really comes into its own when we begin to collaborate with other people. We already have most of the machinery we need to do this; the only thing missing is to copy changes from one repository to another.\n",
    "\n",
    "Systems like Git allow us to move work between any two repositories. In practice, though, it’s easiest to use one copy as a central hub, and to keep it on the web rather than on someone’s laptop. Most programmers use hosting services like GitHub, Bitbucket or GitLab to hold those master copies, which are sometimes referred to as a \"single source of truth\".\n",
    "\n",
    "Let’s start by sharing the changes we’ve made to our current project with the world. Log in to GitHub, then click on the plus icon in the top right corner to create a new repository. Name your repository \"map-<yourcountryname>\" and then click “Create Repository\".\n",
    "\n",
    "*Note:* Since this repository will be connected to a local repository, it needs to be empty. Leave “Initialize this repository with a README” unchecked, and keep “None” as options for both “Add .gitignore” and “Add a license.” \n",
    "\n",
    "## Pushing your local repository to the remote on GitHub\n",
    "\n",
    "As soon as the repository is created, GitHub displays a page with a URL and some information on how to configure your local repository. The remote repository appears empty for now because it doesn't have any files yet - we have to add those by connecting the remote repository to the local one - remember, this is the `world_cities_workshop/` directory on your computer. \n",
    "\n",
    "To do that, GitHub already suggests some helpful commands under the heading **\"Push an existing repository from the command line\"**. You should see some commands that are unique to the remote repository you just created on GitHub, which allow you to do this connection process to your local folder. In your terminal, make sure you are in your `world_cities_workshop/` directory and then run the following command, making sure to replace <url of your project> with (you guessed it) the actual url of your project shown on GitHub*:\n",
    "\n",
    "`git remote add origin <url of your project>.git`\n",
    "\n",
    "This first command, `git remote add origin` does the connecting step between your local repository and the remote on GitHub. Remember, we set up the global configuration options so Git already knows that the person requesting this connection be made is you (from your computer). \n",
    "\n",
    "The third step uses the git command `push` to move the files tracked by git in your local repository to the remote on GitHub. We have only one branch in this project (\"master\"), and of course it's associated with the origin (the remote repository). \n",
    "\n",
    "`git push -u origin master`\n",
    "\n",
    "This establishes the connection and makes it easy to `push` future local changes made in your local repository to the remote version on GitHub, and also allows you to `pull` changes that are made by you or someone else on GitHub to your local machine. The `-u` option used with `git push` associates the current branch with a remote branch so that the commands `git push` and `git pull` can be used without any arguments to move changes between the local and remote repositories. Think of it as a two-way street. :)\n",
    "\n",
    "*Note: If you have navigated away from the page that displayed immediately after creating the remote repository on GitHub, you can always get back to the url of your project to set up this step by clicking on the green \"Code\" button near the top right of your screen on the main repository page. When you click there, choose \"HTTPS\" and copy the contents of the box below. You can use that directly in your commands with git, including when you want to clone someone else's repository (more on that later).\n",
    "\n",
    "## The difference between `push` and `commit`\n",
    "\n",
    "When we push changes, we’re interacting with a remote repository to update it with the changes we’ve made locally (often this corresponds to sharing the changes we’ve made with others). Commit only updates your local repository.\n",
    "\n",
    "## Demonstrate a basic collaborative workflow\n",
    "\n",
    "In practice, it is good to be sure that you have an updated version of the repository you are collaborating on, so you should git pull before making our changes. The basic collaborative workflow would be:\n",
    "\n",
    "1. update your local repo with `git pull`\n",
    "2. make your changes and stage them with `git add`\n",
    "3. commit your changes with `git commit -m`, and\n",
    "4. upload the changes to GitHub with `git push`\n",
    "\n",
    "It is better to make many commits with smaller changes rather than of one commit with massive changes: small commits are easier to read and review."
   ],
   "cell_type": "markdown",
   "metadata": {}
  }
 ]
}