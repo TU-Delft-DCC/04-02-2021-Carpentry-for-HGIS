{
 "metadata": {
  "language_info": {
   "codemirror_mode": {
    "name": "ipython",
    "version": 3
   },
   "file_extension": ".py",
   "mimetype": "text/x-python",
   "name": "python",
   "nbconvert_exporter": "python",
   "pygments_lexer": "ipython3",
   "version": 3
  },
  "orig_nbformat": 2
 },
 "nbformat": 4,
 "nbformat_minor": 2,
 "cells": [
  {
   "source": [
    "# Version control with Git\n",
    "\n",
    "This lesson is focused on understanding and implementing version control with Git to keep track of changes to a code-based project. We'll talk about the utility of version control systems for tracking changes to local projects, and how it can be used to enable remote collaboration and crediting of multiple authors to a project hosted in a remote repository like GitHub. This material draws from the [Version Control with Git](https://swcarpentry.github.io/git-novice/) lesson from the Software Carpentries. "
   ],
   "cell_type": "markdown",
   "metadata": {}
  },
  {
   "source": [
    "# Setup requirements\n",
    "\n",
    "For Windows users, Git should be installed already on your computer as part of your Bash install from Day 1. \n",
    "\n",
    "Mac users need to install Git for Mac by downloading and running the most recent \"mavericks\" installer from [this list on Sourceforge.net](https://sourceforge.net/projects/git-osx-installer/files/). Because this installer is not signed by the developer, you may have to right click (control click) on the .pkg file, click Open, and click Open on the pop up window. After installing Git, there will not be anything in your /Applications folder, as Git is a command line program. For older versions of OS X (10.5-10.8) use the most recent available installer labelled \"snow-leopard\" available here. \n",
    "\n",
    "More detailed instructions and videos are available here: https://carpentries.github.io/workshop-template/#git\n",
    "\n",
    "## Data and script for Day 3\n",
    "We will continue to use the data from Day 2 on cities etc. _____"
   ],
   "cell_type": "markdown",
   "metadata": {}
  },
  {
   "source": [
    "# Background\n",
    "\n",
    "Version control is the lab notebook of the digital world: it’s what professionals use to keep track of what they’ve done and to collaborate with other people. Every large software development project relies on it, and most programmers use it for their small jobs as well. And it isn’t just for software: books, papers, small data sets, and anything that changes over time or needs to be shared can and should be stored in a version control system.\n",
    "\n",
    "A version control system is a tool that keeps track of these changes for us, effectively creating different versions of our files. It allows us to decide which changes will be made to the next version (each record of these changes is called a commit), and keeps useful metadata about them. The complete history of commits for a particular project and their metadata make up a repository. Repositories can be kept in sync across different computers, facilitating collaboration among different people. Version control systems start with a base version of the document and then record changes you make each step of the way. You can think of it as a recording of your progress: you can rewind to start at the base document and play back each change you made, eventually arriving at your more recent version.\n",
    "\n",
    "## Remote collaboration\n",
    "It seems ridiculous to have multiple nearly-identical versions of the same document. Some word processors let us deal with this a little better, such as Microsoft Word’s Track Changes, Google Docs’ version history. \n",
    "\n",
    "Collaborative writing with traditional word processors is cumbersome. Either every collaborator has to work on a document sequentially (slowing down the process of writing), or you have to send out a version to all collaborators and manually merge their comments into your document. The ‘track changes’ or ‘record changes’ option can highlight changes for you and simplifies merging, but as soon as you accept changes you will lose their history. You will then no longer know who suggested that change, why it was suggested, or when it was merged into the rest of the document. Even online word processors like Google Docs or Microsoft Office Online do not fully resolve these problems.\n",
    "\n",
    "Unless multiple users make changes to the same section of the document - a conflict - you can incorporate two sets of changes into the same base document.\n",
    "\n",
    "## Individual work\n",
    "Teams are not the only ones to benefit from version control: lone researchers can benefit immensely. Keeping a record of what was changed, when, and why is extremely useful for all researchers if they ever need to come back to the project later on (e.g., a year later, when memory has faded).\n",
    "\n",
    "\n"
   ],
   "cell_type": "markdown",
   "metadata": {}
  },
  {
   "source": [
    "# Setting up Git\n",
    "\n",
    "When we use Git on a new computer for the first time, we need to configure a few things. The commands we will run only need to be run once: the flag `--global` tells Git to use the settings for every project, in your user account, on this computer. Below are configurations we will set as we get started with Git:\n",
    "\n",
    "* our name and email address,\n",
    "* what our preferred text editor is,\n",
    "* and that we want to use these settings globally (i.e. for every project).\n",
    "\n",
    "Open up your terminal or GitBash command prompt and type:\n",
    "\n",
    "`$ git config --global user.name \"<insert your name here>\"`\n",
    "\n",
    "`$ git config --global user.email \"<insert your email here>\"`\n",
    "\n",
    "For these lessons, we will be interacting with GitHub and so the email address used should be the same as the one used when setting up your GitHub account.\n",
    "\n",
    "We will also set up nano to be the preferred text editor for Git (you can always reconfigure this if you want to change to a different text editor in the future):\n",
    "\n",
    "`$ git config --global core.editor \"nano -w\"`\n",
    "\n",
    "You can check your settings at any time by running:\n",
    "\n",
    "`$ git config --list`\n",
    "\n",
    "We will be working with some of the most common Git commands today. If you ever forget a command, or need help, you can use `git config -h` for a list of commands and `git config --help` to access the detailed Git manual.\n"
   ],
   "cell_type": "markdown",
   "metadata": {}
  },
  {
   "source": [
    "# Make the `world_cities_workshop/` folder into a local Git repository\n",
    "\n",
    "The first step in implementing Git for version control on any project is initializing a new Git repository in a folder in the main folder of that project. This is why keeping everything organized in subdirectories in one place is especially useful! For this workshop, our project folder is the `world_cities_workshop/` folder that should be stored on your Desktop, so we will initialize a new Git repository there. When we initialise a git repository in our main folder, all the contents of every subfolder therein will be automatically trackable with git...so we only need to do this step once in the main `world_cities_workshop/` folder:\n",
    "\n",
    "To do so, in your terminal you should `cd` into the `world_cities_workshop/` folder:\n",
    "\n",
    "`$ cd world_cities_workshop`\n",
    "\n",
    "And then we will run our first git command to initialize a git repository in this folder:\n",
    "\n",
    "`$ git init`\n",
    "\n",
    "And just like that, we've started a local repository that is ready to track changes for us. Pretty neat! Of course, we're still in the driver's seat - Git requires our input about what to track, what to ignore, and when to save or \"commit\" changes that we've made to our files and folders. For now, we can check that the git repository has indeed been initialised by running the `ls` command with a flag, `-a` that shows all files and folders, including hidden ones that git has created:\n",
    "\n",
    "`$ ls -a`\n",
    "\n",
    "You should see in the output a hidden folder called `.git`. This is where git will store all the information from commits you make based on changes in your projects, and also where you can revert to previous versions and specific commits if you ever need to. This folder needs to stay put so that the project remains tracked with git and we don't lose information about changes we've made - the choice to hide it makes it a little bit harder to delete (which we don't want to do)! :) \n",
    "\n",
    "Let's do one last check to make sure our git repository was set up successfully in our `world_cities_workshop/` directory. We'll ask git to report on its current status using:\n",
    "\n",
    "`$ git status`\n",
    "\n",
    "You should see a message indicating that you are on a branch called \"master\" and that there is nothing to commit yet - this makes sense because of course we haven't made any changes yet. That's coming up!\n",
    "\n"
   ],
   "cell_type": "markdown",
   "metadata": {}
  },
  {
   "source": [
    "# Making a change to a file\n",
    "\n",
    "## Moving changes to the staging area with `git add`\n",
    "\n",
    "## Committing changes and adding a message with `git commit`\n",
    "\n"
   ],
   "cell_type": "markdown",
   "metadata": {}
  },
  {
   "source": [
    "# Using `.gitignore`"
   ],
   "cell_type": "markdown",
   "metadata": {}
  },
  {
   "source": [
    "# Remote collaboration on GitHub\n",
    "\n",
    "## Relationship between local and remote repositories\n",
    "\n",
    "## Cloning a repository from GitHub\n",
    "\n",
    "## Creating a new branch\n",
    "\n",
    "## Pushing changes\n",
    "\n",
    "## Pulling changes"
   ],
   "cell_type": "markdown",
   "metadata": {}
  },
  {
   "cell_type": "code",
   "execution_count": null,
   "metadata": {},
   "outputs": [],
   "source": []
  }
 ]
}