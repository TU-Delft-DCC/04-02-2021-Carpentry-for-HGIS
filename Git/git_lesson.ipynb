{
 "metadata": {
  "language_info": {
   "codemirror_mode": {
    "name": "ipython",
    "version": 3
   },
   "file_extension": ".py",
   "mimetype": "text/x-python",
   "name": "python",
   "nbconvert_exporter": "python",
   "pygments_lexer": "ipython3",
   "version": 3
  },
  "orig_nbformat": 2
 },
 "nbformat": 4,
 "nbformat_minor": 2,
 "cells": [
  {
   "source": [
    "This is some sample text \n",
    "\n",
    "here is some more\n",
    "something more\n",
    "some extra text\n",
    "\n",
    "some more writing\n",
    "\n",
    "another change"
   ],
   "cell_type": "markdown",
   "metadata": {}
  }
 ]
}