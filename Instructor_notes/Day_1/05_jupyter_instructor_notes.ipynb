{
 "cells": [
  {
   "cell_type": "markdown",
   "metadata": {},
   "source": [
    "# Introduce Jupyter lab and basic handson python concepts\n",
    "1. Slides with intro to python and the ecosystem features\n",
    "    - What about python and scientific programming\n",
    "        - Go to the Slides showing the python ecosystem\n",
    "        - Why python and the python ecosystem\n",
    "        - Its open source, allows multiple people to contribute\n",
    "        - Its easy to read\n",
    "        - It has awesome tools"
   ]
  },
  {
   "cell_type": "markdown",
   "metadata": {},
   "source": [
    "## Setting up jupyter \n",
    "\n",
    "### Explain\n",
    "- Executing code in a python interpreter or directly from the command line is useful, but we also want a way to edit and annotate code and go through some process of trial and error when we're solving problems on our own. \n",
    "- Anaconda installed JupyterLab, which is a web-based interactive development environment for Jupyter notebooks, code, and data. \n",
    "- The Jupyter Notebook is an open-source web application that allows you to create and share documents that contain live code, equations, visualizations and narrative text. Uses include: data cleaning and transformation, numerical simulation, statistical modeling, data visualization, machine learning, and much more. ([source](https://jupyter.org/#:~:text=JupyterLab%20is%20a%20web%2Dbased,scientific%20computing%2C%20and%20machine%20learning.))\n",
    "\n",
    "You can launch Jupyter Lab from your command line from within the folder you want to work in. In this case, we want to create our first Jupyter notebook in the `py_workshop_2021/` folder.\n",
    "1. Make sure you are in the py_workshop_2021/ folder. If you were in scripts, move up one: `cd ..`\n",
    "2. Launch Jupyter Lab: `jupyter lab`"
   ]
  },
  {
   "cell_type": "markdown",
   "metadata": {},
   "source": [
    "## Hands on python console from the terminal"
   ]
  },
  {
   "cell_type": "code",
   "execution_count": 4,
   "metadata": {},
   "outputs": [
    {
     "name": "stdout",
     "output_type": "stream",
     "text": [
      "Hello world\n"
     ]
    }
   ],
   "source": [
    "print(\"Hello world\")"
   ]
  },
  {
   "cell_type": "markdown",
   "metadata": {},
   "source": [
    "## Saying hi to a person, or several persons\n",
    "- Demonstrate values and variables\n",
    "- Mention string types"
   ]
  },
  {
   "cell_type": "code",
   "execution_count": 8,
   "metadata": {},
   "outputs": [
    {
     "name": "stdout",
     "output_type": "stream",
     "text": [
      "Hello, Jose\n",
      "Hello, Jose\n"
     ]
    }
   ],
   "source": [
    "name = \"Jose\"\n",
    "message = \"Hello, \" + name\n",
    "print(message)\n",
    "\n",
    "# Explain the problem of reassignment\n",
    "name = \"Ashley\"\n",
    "print(message)"
   ]
  },
  {
   "cell_type": "markdown",
   "metadata": {},
   "source": [
    "### Write a simple function\n",
    "- Make some identation mistake writing the function"
   ]
  },
  {
   "cell_type": "code",
   "execution_count": 11,
   "metadata": {},
   "outputs": [
    {
     "name": "stdout",
     "output_type": "stream",
     "text": [
      "Hello,Jose\n",
      "Hello,Ashley\n"
     ]
    }
   ],
   "source": [
    "def greet_user(username):\n",
    "    print(\"Hello,\" + username)\n",
    "\n",
    "greet_user(\"Jose\")\n",
    "greet_user(\"Ashley\")"
   ]
  },
  {
   "cell_type": "markdown",
   "metadata": {},
   "source": [
    "## Simple representation of a zoom event with python\n",
    "- users\n",
    "- Other considerations, roles, details, etc.\n",
    "- basic interactions, like notifying new comers to the room"
   ]
  },
  {
   "cell_type": "markdown",
   "metadata": {},
   "source": [
    "## Represent it first as a list\n",
    "- The simple list which can be numbers\n",
    "- A list with names"
   ]
  },
  {
   "cell_type": "code",
   "execution_count": 30,
   "metadata": {},
   "outputs": [],
   "source": [
    "room = [1,2,3,4,5] # etc..."
   ]
  },
  {
   "cell_type": "code",
   "execution_count": 31,
   "metadata": {},
   "outputs": [],
   "source": [
    "room = [\"Ashley\", \"Jose\", \"Ron\"]"
   ]
  },
  {
   "cell_type": "code",
   "execution_count": 32,
   "metadata": {},
   "outputs": [
    {
     "name": "stdout",
     "output_type": "stream",
     "text": [
      "['Ashley']\n",
      "[]\n",
      "['Ashley']\n",
      "[]\n"
     ]
    }
   ],
   "source": [
    "room = []\n",
    "room.append(\"Ashley\")\n",
    "print(room)\n",
    "room.remove(\"Ashley\")\n",
    "print(room)\n",
    "room.append(\"Ashley\")\n",
    "print(room)\n",
    "room.remove(room[0]) # This is the identifier, index...\n",
    "print(room)"
   ]
  },
  {
   "cell_type": "markdown",
   "metadata": {},
   "source": [
    "## Make our program more interactive\n",
    "- Register users \n",
    "- Put a limit to the list\n",
    "- Add the name more than one time"
   ]
  },
  {
   "cell_type": "code",
   "execution_count": 17,
   "metadata": {},
   "outputs": [
    {
     "name": "stdout",
     "output_type": "stream",
     "text": [
      "Enter your name:\n"
     ]
    },
    {
     "name": "stdin",
     "output_type": "stream",
     "text": [
      " Jose\n"
     ]
    },
    {
     "name": "stdout",
     "output_type": "stream",
     "text": [
      "['Ashley', 'Jose', 'Jose']\n"
     ]
    }
   ],
   "source": [
    "def register_user():\n",
    "    print(\"Enter your name:\")\n",
    "    name = input()\n",
    "    room.append(name)"
   ]
  },
  {
   "cell_type": "markdown",
   "metadata": {},
   "source": [
    "## More expressive information\n",
    "Using different data types\n",
    "- adding last names\n",
    "- username\n",
    "- age\n",
    "- role"
   ]
  },
  {
   "cell_type": "code",
   "execution_count": null,
   "metadata": {},
   "outputs": [],
   "source": [
    "# Dummy data, specification example\n",
    "user = \"Jose Urra\""
   ]
  },
  {
   "cell_type": "markdown",
   "metadata": {},
   "source": [
    "## Use a nested list\n"
   ]
  },
  {
   "cell_type": "code",
   "execution_count": 24,
   "metadata": {},
   "outputs": [
    {
     "name": "stdout",
     "output_type": "stream",
     "text": [
      "[['Jose', 'Urra', 25, 'instructor'], ['Ashley', 'Cryan', 26, 'instructor']]\n"
     ]
    }
   ],
   "source": [
    "# Dummy data, specification example\n",
    "user = [\"Jose\", \"Urra\", 25, \"instructor\"]\n",
    "\n",
    "room = [[\"Jose\", \"Urra\", 25, \"instructor\"],\n",
    "        [\"Ashley\", \"Cryan\", 26, \"instructor\"]   \n",
    "       ]\n",
    "print(room)"
   ]
  },
  {
   "cell_type": "markdown",
   "metadata": {},
   "source": [
    "## Use a dictionary"
   ]
  },
  {
   "cell_type": "code",
   "execution_count": 25,
   "metadata": {},
   "outputs": [
    {
     "data": {
      "text/plain": [
       "dict"
      ]
     },
     "execution_count": 25,
     "metadata": {},
     "output_type": "execute_result"
    }
   ],
   "source": [
    "user = {\n",
    "    \"first_name\" : \"Jose\",\n",
    "    \"last_name\"  : \"Urra\",\n",
    "    \"age\"        : 25,\n",
    "    \"role\"       : \"instructor\"\n",
    "}\n",
    "\n",
    "type(user)"
   ]
  },
  {
   "cell_type": "code",
   "execution_count": 29,
   "metadata": {},
   "outputs": [
    {
     "name": "stdout",
     "output_type": "stream",
     "text": [
      "[1, 2, 3, 4, 5, 6, 7, 8, 9, 10, 11, 12, 13, 14, 15]\n"
     ]
    }
   ],
   "source": [
    "room = [*range(1, 16)]\n",
    "print(room)"
   ]
  },
  {
   "cell_type": "markdown",
   "metadata": {},
   "source": [
    "\n",
    "```{Note}\n",
    "Start directly with the terminal first\n",
    "```\n",
    "```\n",
    "Python 3.8.3 (default, Jul  2 2020, 17:30:36) [MSC v.1916 64 bit (AMD64)] :: Anaconda, Inc. on win32\n",
    "Type \"help\", \"copyright\", \"credits\" or \"license\" for more information.\n",
    ">>> my_name = \"Jose\"\n",
    ">>> message = \"Hello, \" + my_name\n",
    ">>> print(message)\n",
    "Hello, Jose\n",
    ">>> my_name = \"Ashley\"\n",
    ">>> print(message)\n",
    "Hello, Jose\n",
    "```\n",
    "\n",
    "```{Note}\n",
    "Discuss here a problem of reusability, and then try to make a function\n",
    "```\n",
    "```\n",
    ">>> def say_hello_to(name):\n",
    "...   print(\"Hello, \" + name)\n",
    "...\n",
    ">>> say_hello_to(\"Ashley\")\n",
    "Hello, Ashley\n",
    "```\n",
    "\n",
    "```{Note}\n",
    "Store some data in room, and say hello to everyone in the room... Discuss here lists, and indexing,\n",
    "Discuss in this example why python is very expressive\n",
    "```\n",
    "```\n",
    ">>> room = [\"Jose\"]\n",
    ">>> if len(room) > 0:   # If room has guests\n",
    "...   for guest in room:\n",
    "...     print(\"Hello, \" + guest)\n",
    "...\n",
    "Hello, Jose\n",
    ">>>\n",
    "```\n",
    "\n",
    "You will see a browser window open - this is your local browser, so you will see files in the `py_workshop_2021/` folder there.\n",
    "\n",
    "1. Move into the `scripts/` folder on the left hand navigation bar.\n",
    "2. Create a new Jupyter Notebook with a Python 3 kernel by clicking on the icon at the top of the screen.\n",
    "3. Right click on the new name 'Untitled.ipynb' and select 'Rename' from the list of options. Name it 'day1_exercises.ipynb'\n",
    "\n",
    "In the Jupyter notebook, the default cell type is code. The convenient thing about working with Jupyter notebooks is you can store text and annotation as important information to go along with your code, so that you or someone else can reproduce it more easily later. Let's start by adding a title and description to this document:\n",
    "\n",
    "1. Make sure your cursor is in the first cell, then change the type from 'Code' to 'Markdown' at the top menu bar.\n",
    "2. Click in the cell again, and begin typing. Let's write a title, 'Python Essentials Day 1 Exercises'\n",
    "3. Hit Shift + Enter to \"run\" the cell.\n",
    "\n",
    "1. Markdown is a language with its own syntax for formatting text. Since this is a title, let's make it large and bold:\n",
    "\n",
    "2. Click back into the first cell\n",
    "3. Add a # symbol and a space before the title\n",
    "4. Hit enter twice to create a new line with a space in between\n",
    "5. Type a short description that will help you remember what this workshop is about. Let it start with: '**Description:**'\n",
    "6. Hit Shift+Enter to run the cell and see the formatting change.\n",
    "\n",
    "Now let's work with a code cell to create a simple print statement.\n",
    "\n",
    "1. In a new cell, check to make sure the type is 'Code' (no need to change anything as that is default)\n",
    "2. Make a variable called `myname` and assign it a value of your name: `myname = 'Ashley'`\n",
    "3. Hit enter to get a new line.\n",
    "4. Create a print statement to say hello using the variable you stored: `print(\"Hello \" + myname + \"!\")`\n",
    "\n",
    "You can also write inline annotations to your code to help you remember specific things about what it does. To do this you use the # symbol, in a code cell, Python will not run anything written after the hash symbol per line.\n",
    "\n",
    "1. Write a short annotation at the end of the line where you store your `myname` variable. `# i got this name at birth :)`\n",
    "2. Hit Shift+Enter to run the code.\n",
    "\n",
    "Congratulations, you just wrote and annotated your first Python code in a Jupyter notebook!\n",
    "\n",
    "## Take aways before going to exerises\n",
    "- Learning how to program when you are not a computer scientist\n",
    "    - User scripts\n",
    "    - Formulate computational problems\n",
    "    - Understanding how computers work is important\n",
    "    - Fundamentals are important"
   ]
  }
 ],
 "metadata": {
  "kernelspec": {
   "display_name": "Python 3",
   "language": "python",
   "name": "python3"
  },
  "language_info": {
   "codemirror_mode": {
    "name": "ipython",
    "version": 3
   },
   "file_extension": ".py",
   "mimetype": "text/x-python",
   "name": "python",
   "nbconvert_exporter": "python",
   "pygments_lexer": "ipython3",
   "version": "3.8.3"
  }
 },
 "nbformat": 4,
 "nbformat_minor": 4
}
