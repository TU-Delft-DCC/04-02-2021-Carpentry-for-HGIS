{
 "metadata": {
  "language_info": {
   "codemirror_mode": {
    "name": "ipython",
    "version": 3
   },
   "file_extension": ".py",
   "mimetype": "text/x-python",
   "name": "python",
   "nbconvert_exporter": "python",
   "pygments_lexer": "ipython3",
   "version": 3
  },
  "orig_nbformat": 2
 },
 "nbformat": 4,
 "nbformat_minor": 2,
 "cells": [
  {
   "source": [
    "# Creating and navigating files and directories with the Unix Shell (Bash)\n",
    "\n",
    "This lesson is an introduction to using the Unix shell and the Bash scripting language to create and navigate through files and directories (folders) on your local computer. It is an alternative to \"clicking\" and provides some significant advantages in documenting processes, automating tasks, and enabling reproducible workflows.\n",
    "\n",
    "This lesson material is based upon the Software Carpentries lesson on [The Unix Shell](http://swcarpentry.github.io/shell-novice/), the [Introduction to the Command Line for Genomics](https://datacarpentry.org/shell-genomics/) lesson from Data Carpentries, and an [Intro to the Shell](https://datacarpentry.org/2015-11-04-ACUNS/shell-intro/) workshop from softwarecarpentry.org.\n",
    "\n",
    "\n",
    "## Learning goals\n",
    "\n",
    "The learning goals for this lesson are to show that computers can be used to record and automate iterative tasks and that scripts are a tool for reproducibility.\n",
    "\n",
    "## Setup requirements\n",
    "\n",
    "Participants using Windows OS will need to install Git for Windows following the instructions [here](https://carpentries.github.io/workshop-template/#shell) before Day 1 begins.\n",
    "\n",
    "The default shell in some versions of macOS is Bash, and Bash is available in all versions, so no need to install anything. You access Bash from the Terminal. The easiest way to find it is by using the magnifying glass symbol at the top right corner of your page and search \"Terminal\". You should open it up and it's a good idea to right click the icon at the bottom of your screen and choose Options > Keep in Dock.\n",
    "\n",
    "## Data and script for Day 1\n",
    "Files for the Unix Shell lesson are contained in the `pre_workshop_files/` directory that participants should download and save this folder on their Desktop keeping the name `pre_workshop_files/`.\n",
    "\n",
    "## Background\n",
    "The shell is a program that enables us to send commands to the computer and receive output. It is also referred to as the terminal or command line.\n",
    "Humans and computers commonly interact in many different ways, such as through a keyboard and mouse, touch screen interfaces, or using speech recognition systems. The most widely used way to interact with personal computers is called a graphical user interface (GUI). With a GUI, we give instructions by clicking a mouse and using menu-driven interactions.\n",
    "\n",
    "While the visual aid of a GUI makes it intuitive to learn, this way of delivering instructions to a computer scales very poorly. Imagine the following task: __. Using a GUI, you would not only be clicking at your desk for several hours, but you could potentially also commit an error in the process of completing this repetitive task. This is where we take advantage of the Unix shell. The Unix shell is both a command-line interface (CLI) and a scripting language, allowing such repetitive tasks to be done automatically and fast. With the proper commands, the shell can repeat tasks with or without some modification as many times as we want. Using the shell, the task in the example can be accomplished in seconds.\n",
    "\n",
    "The most popular Unix shell is Bash (the Bourne Again SHell — so-called because it’s derived from a shell written by Stephen Bourne). Bash is the default shell on most modern implementations of Unix and in most packages that provide Unix-like tools for Windows.\n",
    "\n",
    "Using the shell will take some effort and some time to learn. While a GUI presents you with choices to select, CLI choices are not automatically presented to you, so you must learn a few commands like new vocabulary in a language you’re studying. However, unlike a spoken language, a small number of “words” (i.e. commands) gets you a long way, and we’ll cover some of those essentials today.\n",
    "\n",
    "The grammar of a shell allows you to combine existing tools into powerful pipelines and handle large volumes of data automatically. Sequences of commands can be written into a script, improving the reproducibility of workflows.\n",
    "\n",
    "The Bash commands, notations and tools taught in this lesson are:\n",
    "\n",
    "- `cd` - change directory\n",
    "- `ls` - list (files and directories)\n",
    "- `mkdir` - make directory\n",
    "- `cat` - show file contents\n",
    "- `..` - move \"up one\" directory level\n",
    "- `mv` - move\n",
    "- `pwd` - print working directory\n",
    "- `*` - wildcard used to match filenames\n",
    "- nano text editor\n",
    "\n",
    "The Jupyter commands taught in this lesson are:\n",
    "- `jupyter lab`"
   ],
   "cell_type": "markdown",
   "metadata": {}
  }
 ]
}