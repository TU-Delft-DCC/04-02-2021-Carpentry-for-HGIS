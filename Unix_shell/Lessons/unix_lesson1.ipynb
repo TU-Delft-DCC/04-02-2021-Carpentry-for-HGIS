{
 "metadata": {
  "language_info": {
   "codemirror_mode": {
    "name": "ipython",
    "version": 3
   },
   "file_extension": ".py",
   "mimetype": "text/x-python",
   "name": "python",
   "nbconvert_exporter": "python",
   "pygments_lexer": "ipython3",
   "version": "3.9.1"
  },
  "orig_nbformat": 2,
  "kernelspec": {
   "name": "python3",
   "display_name": "Python 3.9.1 64-bit ('geospatial': conda)",
   "metadata": {
    "interpreter": {
     "hash": "c5ff75e383e2c1f5139649c29f775bf3fb1a63ca47ecfea1084cd0c0999df50a"
    }
   }
  }
 },
 "nbformat": 4,
 "nbformat_minor": 2,
 "cells": [
  {
   "source": [
    "# Create a new project directory and subdirectories for data and code\n",
    "\n",
    "1. Make a workshop folder called `world_cities_workshop/`: `$ mkdir world_cities_workshop`\n",
    "2. Change directory to `world_cities_workshop`: `$ cd world_cities_workshop`\n",
    "3. List contents of `world_cities_workshop/`: `$ ls` (it should be empty)\n",
    "\n",
    "## Set up the project folder structure\n",
    "\n",
    "1. Make sure you are in the `world_cities_workshop/` folder: `$cd world_cities_workshop`\n",
    "2. Create two new directories, `data/` and `scripts/` inside the world_cities_workshop/ folder: `$ mkdir data scripts`\n",
    "\n",
    "Now try creating a folder for `documents/` in `world_cities_workshop/`. Try this on your own.\n"
   ],
   "cell_type": "markdown",
   "metadata": {}
  },
  {
   "source": [
    "\n"
   ],
   "cell_type": "markdown",
   "metadata": {}
  },
  {
   "source": [],
   "cell_type": "markdown",
   "metadata": {}
  },
  {
   "source": [
    "# Homework for Day 1 (afternoon)\n",
    "\n",
    "## Generating country population data\n",
    "\n",
    "Each person should choose a country and source population data for its five largest cities. You can use any site you like and make sure to cite the source. One example is https://worldpopulationreview.com/countries.\n",
    "\n",
    "An example of how to cite the source of population data for Canada from World Population Review is:\n",
    "\n",
    "World Population Review. (2021, February 15). Canada Population 2021. Retrieved from https://worldpopulationreview.com/countries/canada-population\n",
    "\n",
    "Using a text editor like Notepad or TextEdit, create a .csv file called mycountry-cities.csv. Change to the name of your country. Make sure before you save it that you turn it into plain text. In TextEdit this is done by navigating to Format > Make Plain Text. Copy the exact syntax of the netherlands-cities.csv file and list your city, it's coordinates, and its population size in that order. Make sure you do not include spaces in either your city name (if it is multiple words, like The Hague you can either do The-Hague or TheHague) or your lines (every comma should not have a space after it). Population numbers shouldn't have any commas or periods. Each city should have its own line which starts with a \"c\", for city.\n",
    "\n",
    "For example, the entry for New York City would look like this:\n",
    "c,NewYorkCity,40.7128,74.0060,8419000"
   ],
   "cell_type": "markdown",
   "metadata": {}
  },
  {
   "cell_type": "code",
   "execution_count": null,
   "metadata": {},
   "outputs": [],
   "source": []
  }
 ]
}