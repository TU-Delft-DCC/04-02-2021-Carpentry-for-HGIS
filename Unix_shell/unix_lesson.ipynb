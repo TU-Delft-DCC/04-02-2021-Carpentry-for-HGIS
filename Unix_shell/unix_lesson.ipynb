{
 "metadata": {
  "language_info": {
   "codemirror_mode": {
    "name": "ipython",
    "version": 3
   },
   "file_extension": ".py",
   "mimetype": "text/x-python",
   "name": "python",
   "nbconvert_exporter": "python",
   "pygments_lexer": "ipython3",
   "version": 3
  },
  "orig_nbformat": 2
 },
 "nbformat": 4,
 "nbformat_minor": 2,
 "cells": [
  {
   "source": [
    "# Creating and navigating files and directories with the Unix Shell (Bash)\n",
    "\n",
    "This lesson is an introduction to using the Unix shell and the Bash scripting language to create and navigate through files and directories (folders) on your local computer. It is an alternative to \"clicking\" and provides some significant advantages in documenting processes, automating tasks, and enabling reproducible workflows.\n",
    "\n",
    "This lesson material is based upon the Software Carpentries lesson on [The Unix Shell](http://swcarpentry.github.io/shell-novice/), the [Introduction to the Command Line for Genomics](https://datacarpentry.org/shell-genomics/) lesson from Data Carpentries, and an [Intro to the Shell](https://datacarpentry.org/2015-11-04-ACUNS/shell-intro/) workshop from softwarecarpentry.org."
   ],
   "cell_type": "markdown",
   "metadata": {}
  },
  {
   "source": [
    "# Setup requirements\n",
    "\n",
    "If you are running Windows, you will need to install Git for Windows following the instructions [here](https://carpentries.github.io/workshop-template/#shell). *Participants should install Git/Gitbash before day 1*\n",
    "\n",
    "The default shell in some versions of macOS is Bash, and Bash is available in all versions, so no need to install anything. You access Bash from the Terminal. The easiest way to find it is by using the magnifying glass symbol at the top right corner of your page and search \"Terminal\". You should open it up and it's a good idea to right click the icon at the bottom of your screen and choose Options > Keep in Dock.\n",
    "\n",
    "## Data and Python script for Day 1\n",
    "Before today's workshop, we sent out a link to a folder called `workshop_data/` that you should have downloaded. You should save these files exactly as they are in a folder on your Desktop called `workshop_data/`."
   ],
   "cell_type": "markdown",
   "metadata": {}
  },
  {
   "source": [
    "# Open a Bash shell and cd to Desktop\n",
    "\n",
    "## Background\n",
    "The shell is a program that enables us to send commands to the computer and receive output. It is also referred to as the terminal or command line.\n",
    "Humans and computers commonly interact in many different ways, such as through a keyboard and mouse, touch screen interfaces, or using speech recognition systems. The most widely used way to interact with personal computers is called a graphical user interface (GUI). With a GUI, we give instructions by clicking a mouse and using menu-driven interactions.\n",
    "\n",
    "While the visual aid of a GUI makes it intuitive to learn, this way of delivering instructions to a computer scales very poorly. Imagine the following task: __. Using a GUI, you would not only be clicking at your desk for several hours, but you could potentially also commit an error in the process of completing this repetitive task. This is where we take advantage of the Unix shell. The Unix shell is both a command-line interface (CLI) and a scripting language, allowing such repetitive tasks to be done automatically and fast. With the proper commands, the shell can repeat tasks with or without some modification as many times as we want. Using the shell, the task in the example can be accomplished in seconds.\n",
    "The most popular Unix shell is Bash (the Bourne Again SHell — so-called because it’s derived from a shell written by Stephen Bourne). Bash is the default shell on most modern implementations of Unix and in most packages that provide Unix-like tools for Windows.\n",
    "Using the shell will take some effort and some time to learn. While a GUI presents you with choices to select, CLI choices are not automatically presented to you, so you must learn a few commands like new vocabulary in a language you’re studying. However, unlike a spoken language, a small number of “words” (i.e. commands) gets you a long way, and we’ll cover some of those essentials today.\n",
    "\n",
    "The grammar of a shell allows you to combine existing tools into powerful pipelines and handle large volumes of data automatically. Sequences of commands can be written into a script, improving the reproducibility of workflows.\n",
    "\n",
    "## Typing commands\n",
    "The shell accepts commands one line at a time following a prompt, which is usually a symbol like $ or %. When typing commands, you do not need to type this symbol, only the command that comes after it.\n",
    "\n",
    "Let's try our first command.\n",
    "\n",
    "`cd` stands for Change Directory and can be used to navigate to another folder or workspace on your computer. Anything you can click on manually can be entered through the shell using this command. Let's navigate to the Desktop by:\n",
    "\n",
    "`$ cd Desktop`\n",
    "\n",
    "Remember to capitalise the word Desktop.\n",
    "\n",
    "You should now see that your command prompt has changed to indicate that you are in the Desktop directory of your computer. Any commands we run will now take place on the Desktop, which is what we want.\n",
    "\n",
    "Now, let's say you want to see the contents of a directory after you enter it. That is accomplished with the ls command, or 'Listing'. You can use this one by itself like this:\n",
    "\n",
    "`my_Desktop $ ls`\n",
    "\n",
    "The output should be a list of the files and folders you have saved on your Desktop. This is also a good way of verifying that you are in the directory you think you are in after you run `cd`.\n",
    "\n",
    "What if you type something wrong? That's no problem - you'll just see a \"command not found\" error which can happen if the command was mistyped or if the program that uses the command you tried is not installed. Let's try something on purpose.\n",
    "\n",
    "`my_Desktop $ ks`\n",
    "\n",
    "You should see a message \"ks: command not found\" This is what we'd expect, no problem - learning to respond to error messages is an important computational skill. :)\n"
   ],
   "cell_type": "markdown",
   "metadata": {}
  }
 ]
}