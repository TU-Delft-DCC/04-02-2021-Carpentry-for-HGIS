{
 "metadata": {
  "language_info": {
   "codemirror_mode": {
    "name": "ipython",
    "version": 3
   },
   "file_extension": ".py",
   "mimetype": "text/x-python",
   "name": "python",
   "nbconvert_exporter": "python",
   "pygments_lexer": "ipython3",
   "version": 3
  },
  "orig_nbformat": 2
 },
 "nbformat": 4,
 "nbformat_minor": 2,
 "cells": [
  {
   "source": [
    "# Excercise 1\n",
    "## Working with lists\n",
    "Do the following excercises to get familiar with the python interpreter. Use the python interpreter to write line instructions to python and interact with your computer, like you normally would do in a terminal."
   ],
   "cell_type": "markdown",
   "metadata": {}
  },
  {
   "source": [
    "## Excercise 1\n",
    "```{note}\n",
    "To solve many of these little excercises, you will have to search for operations and methods in the internet. Alternatively you can go to [**this website**](https://www.python-ds.com/python-3-list-methods) where you can find information about different methods built in python. It is common practice while coding to search for solutions or query questions about how to do something in python.\n",
    "```\n",
    "\n",
    "**Write the following commands in the python interpreter**\n",
    "```\n",
    ">>> fruits = ['bananas','apples','strawberries']\n",
    ">>> print(fruits)\n",
    "```\n",
    "\n",
    "**Add an item to the list**\n",
    "- Find a way to add a new entry or fruit to the list (for example blueberry).\n",
    "- Print the result in the interpreter to check that the fruit was added.\n",
    "\n",
    "**Remove bananas from the list**\n",
    "- Look for a method that can help you remove bananas from the list\n",
    "\n",
    "**Try the following in your interpreter**\n",
    "```\n",
    ">>> print(fruits[0])\n",
    "```\n",
    "- Think about what did you get and what does it mean. \n",
    "- Create a new variable `strawberries`\n",
    "- Can you store can you get the strawberries item inside the list and store it in this new variable?\n",
    "\n",
    "**Insert grapes right after apples in the fruits list**\n",
    "\n",
    "\n",
    "\n",
    "\n",
    "```{note}\n",
    "At this point you have been able to manipulate a list holding only strings, by now you should have a basic understanding of the structure of the list, the fact that is ordered in some way and that it can change.\n",
    "```\n",
    "\n"
   ],
   "cell_type": "markdown",
   "metadata": {}
  },
  {
   "source": [],
   "cell_type": "markdown",
   "metadata": {}
  },
  {
   "source": [
    ":::{admonition} Click here!\n",
    ":class: tip, dropdown\n",
    "Here's what's inside!\n",
    ":::\n",
    "\n",
    "\n",
    "```{note}\n",
    ":class: dropdown\n",
    "The note body will be hidden!\n",
    "```"
   ],
   "cell_type": "markdown",
   "metadata": {}
  }
 ]
}