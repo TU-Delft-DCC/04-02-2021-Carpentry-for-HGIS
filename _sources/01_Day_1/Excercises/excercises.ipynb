{
 "metadata": {
  "language_info": {
   "codemirror_mode": {
    "name": "ipython",
    "version": 3
   },
   "file_extension": ".py",
   "mimetype": "text/x-python",
   "name": "python",
   "nbconvert_exporter": "python",
   "pygments_lexer": "ipython3",
   "version": 3
  },
  "orig_nbformat": 2
 },
 "nbformat": 4,
 "nbformat_minor": 2,
 "cells": [
  {
   "source": [
    "# Simple excercises te get started\n",
    "## Checklist\n",
    "- Draw a square using turtle"
   ],
   "cell_type": "markdown",
   "metadata": {}
  },
  {
   "source": [
    "## Excercise 1\n",
    "```{note}\n",
    "Here is a note!\n",
    "```\n",
    "\n",
    "**Write the following commands in the python interpreter**\n",
    "```\n",
    ">>> fruits = ['bananas','apples','strawberry']\n",
    ">>> print(fruits)\n",
    "```\n",
    "\n",
    "**Add an item to the list**\n",
    "- Find a way to add a new entry or fruit to the list (for example blueberry).\n",
    "- Print the result in the interpreter to check that the fruit was added.\n",
    "\n",
    "**Remove bananas from the list**\n",
    "- This time try to remove bananas from the list\n",
    "\n",
    "**Insert grapes right after apples**\n",
    "- How can you decide a specific \n",
    "\n"
   ],
   "cell_type": "markdown",
   "metadata": {}
  },
  {
   "source": [],
   "cell_type": "markdown",
   "metadata": {}
  }
 ]
}