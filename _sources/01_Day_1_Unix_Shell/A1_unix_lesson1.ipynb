{
 "metadata": {
  "language_info": {
   "codemirror_mode": {
    "name": "ipython",
    "version": 3
   },
   "file_extension": ".py",
   "mimetype": "text/x-python",
   "name": "python",
   "nbconvert_exporter": "python",
   "pygments_lexer": "ipython3",
   "version": "3.9.1"
  },
  "orig_nbformat": 2,
  "kernelspec": {
   "name": "python3",
   "display_name": "Python 3.9.1 64-bit ('geospatial': conda)",
   "metadata": {
    "interpreter": {
     "hash": "c5ff75e383e2c1f5139649c29f775bf3fb1a63ca47ecfea1084cd0c0999df50a"
    }
   }
  }
 },
 "nbformat": 4,
 "nbformat_minor": 2,
 "cells": [
  {
   "source": [
    "# Day 1 visuals/information to add (maybe slides):\n",
    "\n",
    "- Most commonly used bash commands\n",
    "- Best practices for project folder structures\n",
    "- Breakdown of the mv command (source -> destination)\n",
    "- Wildcards\n",
    "- About the Turtle graphics package\n"
   ],
   "cell_type": "markdown",
   "metadata": {}
  }
 ]
}