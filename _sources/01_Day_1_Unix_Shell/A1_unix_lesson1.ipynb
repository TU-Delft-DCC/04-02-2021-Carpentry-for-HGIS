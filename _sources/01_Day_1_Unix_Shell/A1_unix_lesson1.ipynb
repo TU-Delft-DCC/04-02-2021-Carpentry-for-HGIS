{
 "cells": [
  {
   "cell_type": "markdown",
   "metadata": {},
   "source": [
    "# Day 1 visuals/information to add (maybe slides):\n",
    "\n",
    "- Most commonly used bash commands\n",
    "- Best practices for project folder structures\n",
    "- Breakdown of the mv command (source -> destination)\n",
    "- Wildcards\n",
    "- About the Turtle graphics package\n"
   ]
  }
 ],
 "metadata": {
  "kernelspec": {
   "display_name": "Python 3",
   "language": "python",
   "name": "python3"
  },
  "language_info": {
   "codemirror_mode": {
    "name": "ipython",
    "version": 3
   },
   "file_extension": ".py",
   "mimetype": "text/x-python",
   "name": "python",
   "nbconvert_exporter": "python",
   "pygments_lexer": "ipython3",
   "version": "3.8.3"
  }
 },
 "nbformat": 4,
 "nbformat_minor": 4
}
