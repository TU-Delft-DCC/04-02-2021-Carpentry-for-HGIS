{
 "metadata": {
  "language_info": {
   "codemirror_mode": {
    "name": "ipython",
    "version": 3
   },
   "file_extension": ".py",
   "mimetype": "text/x-python",
   "name": "python",
   "nbconvert_exporter": "python",
   "pygments_lexer": "ipython3",
   "version": 3
  },
  "orig_nbformat": 2
 },
 "nbformat": 4,
 "nbformat_minor": 2,
 "cells": [
  {
   "source": [
    "# Move data and script files to the project folder\n",
    "\n",
    "The data and scripts we want to use are located in the `pre_workshop_files/` folder that we sent out prior to this workshop and you should have saved on your Desktop. Let's take a look at the contents of that folder by navigating there in the shell. If you are in your `py_workshop_2021/` folder, you can use a special notation that means \"move up one level\": \n",
    "\n",
    "1. Move back to the Desktop and directly into the `pre_workshop_files/` folder: `$ cd ../pre_workshop_files`\n",
    "2. Use ls to take a look at the files in the `pre_workshop_files/` folder: `$ ls`\n",
    "3. Take a look at the contents of the documentation.txt file: `$ cat documentation.txt`\n",
    "\n",
    "## Move files from the `pre_workshop_files/` folder to the `py_workshop_2021/` folder\n",
    "\n",
    " 1. Move `documentation.txt` to `py_workshop_2021/documents`: `$ mv documentation.txt ../py_workshop_2021/documentation`\n",
    " 2. Use `ls` to see that `documentation.txt` is no longer in the `pre_workshop_files/` folder\n",
    "\n",
    "Note how we use the `../` notation to move one folder \"up\" from `pre_workshop_files/` to Desktop, and from there we can specify the exact path to the new folder. Note that we didn't actually move there in the terminal - just our files did. We can check where we are anytime by running:\n",
    "\n",
    "1. Print working directory: `pwd`\n",
    "\n",
    "In `pre_workshop_files/` You should also see a file called `map.py` - this extension lets us know that this is a Python script. We can `cat` into it the same way we did to other files because it is simply a text file with a very particular syntax that Python can read and understand. We don't know much else about it at this moment, and that's ok - let's just move it for now.\n",
    "\n",
    "1. Move map.py to the right subfolder within the `py_workshop_2021/` directory. Try this on your own. `$ mv map.py ../py_workshop_2021/scripts`\n",
    "\n",
    "## Use wildcards to access multiple files at once\n",
    "\n",
    "We have two files left in the `pre_workshop_files/` folder - `oregonmap.csv` and `californiamap.csv`. They are both data files that can be run with map.py. We could move each file individually, or type both names in the `mv` command, but there's another way to do this that saves us time.\n",
    "\n",
    "In Bash, `*` is a wildcard, which matches zero or more characters. Let’s consider the `pre_workshop_files/` directory. `*.csv` matches every file that ends with ‘.csv’. On the other hand, `o*.csv` only matches oregonmap.csv because the ‘o’ at the front only matches filenames that begin with the letter ‘o’.\n",
    "\n",
    "1. Move both .csv data files from `pre_workshop_files/` to the `data` folder in `py_workshop_2021/`: `$ mv *.csv ../py_workshop_2021/data`\n",
    "\n",
    "Now, let's check that everything worked the way we wanted it to. The `pre_workshop_files/` directory should be empty, so let's move to the `py_workshop_2021/` directory.\n",
    "\n",
    "1. Use `ls` to check that the `pre_workshop_files/` directory is empty as it should be. \n",
    "2. Change directory to `py_workshop_2021/`: `cd ../py_workshop_2021`\n",
    "3. Check in each of the subdirectories to see if your files are there. Do this on your own. Use `ls` to see the subdirectories, then `cd data`, `ls`, `cd ..`;  `cd scripts`, `ls`, `cd ..`; `cd documentation`, `ls`, `cd ..`\n",
    "\n",
    "## Use nano to add information to the `documentation.txt` file\n",
    "\n",
    "Nano is a text editor that you can use directly in the command line. Let's add some information about ourselves in the `documentation.txt` file.\n",
    "\n",
    "1. Move into the `documentation` folder: `cd documentation`\n",
    "2. Use nano to open the `documentation.txt` file: `nano documentation.txt`\n",
    "3. Add your name and information about this workshop to that file. Use the arrow keys to navigate and type directly in the editor.\n",
    "4. Save the changes and write out the file: Control + O; Enter\n",
    "5. Exit the nano editor: Control + X (you should be back in the terminal)\n",
    "6. See that your changes were saved: `cat documentation.txt`"
   ],
   "cell_type": "markdown",
   "metadata": {}
  }
 ]
}