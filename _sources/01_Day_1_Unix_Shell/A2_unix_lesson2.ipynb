{
 "metadata": {
  "language_info": {
   "codemirror_mode": {
    "name": "ipython",
    "version": 3
   },
   "file_extension": ".py",
   "mimetype": "text/x-python",
   "name": "python",
   "nbconvert_exporter": "python",
   "pygments_lexer": "ipython3",
   "version": 3
  },
  "orig_nbformat": 2
 },
 "nbformat": 4,
 "nbformat_minor": 2,
 "cells": [
  {
   "source": [
    "# Move data and script files to the project folder\n",
    "\n",
    "The data we want to use are contained in multiple files located in the workshop_data/ folder that we sent out prior to this workshop. Let's take a look at the contents of that folder by navigating there in the shell. If you are in your `world_cities_workshop/` folder, you can use a special notation that means \n",
    "\n",
    "1. Move back to the Desktop and directly into the `workshop_data/` folder: `$ cd ../workshop_data`\n",
    "2. Use ls to take a look at the files in the `workshop_data/` folder: `$ ls`\n",
    "3. Take a look at the contents of each file: `$ cat amsterdam-nl.csv`\n",
    "\n",
    "You can cat into other files as well, give it a try on your own.\n",
    "\n",
    "## Move files from the `workshop_data/` folder to the `world_cities_workshop/` folder\n",
    "\n",
    " 1. Move `data-documentation.txt` to `world_cities_workshop/documents`: `$ mv data-documentation.txt ../world_cities_workshop/documents`\n",
    "\n",
    "Note how we use the `../` notation to move one folder \"up\" from `workshop_data/` to Desktop, and from there we can specify the exact path to the new folder.\n",
    "\n",
    "You should also see a file called `map.py` - this extension lets us know that this is a Python script. We can `cat` into it the same way we did to other files because it is simply a text file with a very particular syntax that Python can read and understand. We don't know much else about it at this moment, and that's ok - let's just \n",
    "\n",
    "Move map.py to the right subfolder within the `world_cities_workshop/` directory. Try this on your own. `$ mv map.py ../world_cities_workshop/scripts`\n",
    "\n",
    "## Use wildcards to access multiple files at once\n",
    "\n",
    "In Bash, `*` is a wildcard, which matches zero or more characters. Let’s consider the `workshop_data/` directory. All the .csv files follow a naming convention that goes `<cityname>-<countryabbreviation>.csv`. `*.csv` matches amsterdam-nl.csv, eindhoven-nl.csv and every file that ends with ‘.csv’. On the other hand, `n*.csv` only matches newyorkcity.csv because the ‘n’ at the front only matches filenames that begin with the letter ‘n’.\n",
    "\n",
    "1. Use `ls` to view files in the `workshop_data/` directory.\n",
    "2. Move all data files from Netherlands' cities to the `world_cities_workshop/data/` folder: `$ mv *-nl.csv ../world_cities_workshop/data`\n",
    "\n",
    "If you now look in your `world_cities_workshop/data/` folder, you should see 5 files that contain data for cities in the Netherlands."
   ],
   "cell_type": "markdown",
   "metadata": {}
  }
 ]
}