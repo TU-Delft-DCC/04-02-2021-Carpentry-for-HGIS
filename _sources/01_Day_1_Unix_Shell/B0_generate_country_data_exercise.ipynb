{
 "metadata": {
  "language_info": {
   "codemirror_mode": {
    "name": "ipython",
    "version": 3
   },
   "file_extension": ".py",
   "mimetype": "text/x-python",
   "name": "python",
   "nbconvert_exporter": "python",
   "pygments_lexer": "ipython3",
   "version": 3
  },
  "orig_nbformat": 2
 },
 "nbformat": 4,
 "nbformat_minor": 2,
 "cells": [
  {
   "source": [
    "# Exercise (data generation)\n",
    "\n",
    "## Generating country population data\n",
    "\n",
    "Each person should choose a country and source population data for its five largest cities. You can use any site you like and make sure to cite the source. One example is https://worldpopulationreview.com/countries.\n",
    "\n",
    "An example of how to cite the source of population data for Canada from World Population Review is:\n",
    "\n",
    "World Population Review. (2021, February 15). Canada Population 2021. Retrieved from https://worldpopulationreview.com/countries/canada-population\n",
    "\n",
    "1. Using a text editor like Notepad or TextEdit, create a .csv file called mycountry-cities.csv. Change to the name of your country. \n",
    "2. Make sure before you save it that you turn it into plain text. In TextEdit this is done by navigating to Format > Make Plain Text. \n",
    "3. Copy the exact syntax of the netherlands-cities.csv file and list your city, it's coordinates, and its population size in that order. Each city should have its own line which starts with a \"c\", for city. \n",
    "\n",
    "Tips: Make sure you do not include spaces in either your city name (if it is multiple words, like The Hague you can either do The-Hague or TheHague) or your lines (every comma should not have a space after it). Population numbers shouldn't have any commas or periods. \n",
    "\n",
    "For example, the entry for New York City would look like this:\n",
    "c,NewYorkCity,40.7128,74.0060,8419000"
   ],
   "cell_type": "markdown",
   "metadata": {}
  }
 ]
}