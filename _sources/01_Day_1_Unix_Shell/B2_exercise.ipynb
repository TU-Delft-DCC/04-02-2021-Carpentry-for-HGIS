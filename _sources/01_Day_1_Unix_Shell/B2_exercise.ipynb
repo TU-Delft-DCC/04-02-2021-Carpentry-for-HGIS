{
 "metadata": {
  "language_info": {
   "codemirror_mode": {
    "name": "ipython",
    "version": 3
   },
   "file_extension": ".py",
   "mimetype": "text/x-python",
   "name": "python",
   "nbconvert_exporter": "python",
   "pygments_lexer": "ipython3",
   "version": 3
  },
  "orig_nbformat": 2
 },
 "nbformat": 4,
 "nbformat_minor": 2,
 "cells": [
  {
   "source": [
    "# Excercise 2\n",
    "Make sure you still have the fruits list in your interpreter. Otherwise, recreate it:\n",
    "```\n",
    ">>> fruits = ['bananas','apples','strawberries']\n",
    "```\n",
    "Write in your python interpreter\n",
    "```\n",
    ">>> for i in fruits:\n",
    "```\n",
    "then press enter.\n",
    "then write:\n",
    "```\n",
    ">>> for i in fruits:\n",
    "        print(i)\n",
    "```\n"
   ],
   "cell_type": "markdown",
   "metadata": {}
  }
 ]
}