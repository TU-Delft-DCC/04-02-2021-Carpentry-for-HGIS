{
 "metadata": {
  "language_info": {
   "codemirror_mode": {
    "name": "ipython",
    "version": 3
   },
   "file_extension": ".py",
   "mimetype": "text/x-python",
   "name": "python",
   "nbconvert_exporter": "python",
   "pygments_lexer": "ipython3",
   "version": 3
  },
  "orig_nbformat": 2
 },
 "nbformat": 4,
 "nbformat_minor": 2,
 "cells": [
  {
   "source": [
    "\n",
    "# Day 3 visuals/information (maybe slides):\n",
    "\n",
    "- Why and when do you fork a repository on GitHub? From [GitHub Guides](https://guides.github.com/activities/forking/#:~:text=After%20using%20GitHub%20by%20yourself,contribute%20to%20someone%20else's%20project.&text=Creating%20a%20%E2%80%9Cfork%E2%80%9D%20is%20producing,repository%20and%20your%20personal%20copy.): \"After using GitHub by yourself for a while, you may find yourself wanting to contribute to someone else’s project. Or maybe you’d like to use someone’s project as the starting point for your own. This process is known as forking. Creating a “fork” is producing a personal copy of someone else’s project. Forks act as a sort of bridge between the original repository and your personal copy. You can submit Pull Requests to help make other people’s projects better by offering your changes up to the original project. Forking is at the core of social coding at GitHub.\"\n",
    "- Relationship between local and remote repositories: Version control really comes into its own when we begin to collaborate with other people. We already have most of the machinery we need to do this; the only thing missing is to copy changes from one repository to another. Systems like Git allow us to move work between any two repositories. In practice, though, it’s easiest to use one copy as a central hub, and to keep it on the web rather than on someone’s laptop. Most programmers use hosting services like GitHub, Bitbucket or GitLab to hold those master copies, which are sometimes referred to as a \"single source of truth\".\n",
    "- What is the .gitignore file? What if we have files that we do not want Git to track for us, like backup files created by our editor or intermediate files created during data analysis? Putting these files under version control would be a waste of disk space. What’s worse, having them all listed could distract us from changes that actually matter, so we tell Git to ignore them via this .gitignore file in the root (main folder) of our repository. We can edit this file with nano and add the names of files or directories that we specifically want git to ignore and NOT track changes to. Anything that is listed there will not be tracked by Git. \n",
    "\n",
    "- Git Workflow\n",
    "\n",
    "The workflow for adding and committing future changes to files using Git is:\n",
    "\n",
    "1. `$ git status` to see the files that have been changed and are awaiting commit\n",
    "2. `$ git add <file_name>` to add one file at a time to the staging area or `$ git add .` to add all files that have been changed since the last commit\n",
    "3. `$ git commit -m \"<descriptive message>\"` to commit the latest version of file(s) and describe the nature of the changes made\n",
    "\n",
    "...and then optionally pushing to GitHub (or another remote repository like GitLab or BitBucket) by:\n",
    "\n",
    "4. `git push` to push the changes to the remote repository\n",
    "\n",
    "If you are working with others who are making changes to the same repository (ideally on their own branches), use:\n",
    "\n",
    "0. `git pull` before you start working each session. This avoids conflicts when you try to push your changes.\n",
    "\n",
    "- Using branches with Git and GitHub: From [Backlog.com](https://backlog.com/git-tutorial/using-branches/):\"In a collaborative environment, it is common for several developers to share and work on the same source code. While some developers will be fixing bugs, others will be implementing new features, etc. With so much going on, there needs to be a system in place for managing different versions of the same code base. Branching allows each developer to branch out from the original code base and isolate their work from others. It also helps Git to easily merge versions later on. A Git branch is essentially an independent line of development. You can take advantage of branching when working on new features or bug fixes because it isolates your work from that of other team members. Different branches can be merged into any one branch as long as they belong to the same repository.\"\n",
    "- the Git staging area: \"If you think of Git as taking snapshots of changes over the life of a project, `git add` specifies what will go in a snapshot (putting things in the staging area), and `git commit` then actually takes the snapshot, and makes a permanent record of it (as a commit). If you don’t have anything staged when you type git commit, Git will prompt you to use `git commit -a` or `git commit --all`, which is kind of like gathering everyone to take a group photo! However, it’s almost always better to explicitly add things to the staging area, because you might commit changes you forgot you made. The staging area can hold changes from any number of files that you want to commit as a single snapshot.\"\n",
    "- Git commit: When we run `git commit`, Git takes everything we have told it to save by using `git add` and stores a copy permanently inside the special .git directory. This permanent copy is called a commit (or revision) and each one has a short identifer code that can be used to point to the version of your file if you ever need to revert back to it or investigate changes made. We use the `-m` flag (for “message”) to record a short, descriptive, and specific comment that will help us remember later on what we did and why. If we just run `git commit` without the `-m` option, Git will launch nano so that we can write a longer message. Good commit messages start with a brief (<50 characters) statement about the changes made in the commit. Generally, the message should complete the sentence “If applied, this commit will...” . \n",
    "- Git push: When we add and commit changes with git to files in our local computer, we are tracking changes to our **local** repository. In order to have those changes reflected in a **remote** repository (like on GitHub), we need to **push** them to either a brand new or an existing remote repository. In this case, we are working with a repository that already existed on GitHub before it existed on our local computers (we forked and cloned it from GitHub), and it already contains a remote URL in its configuration settings because that information came along with the files when we did the cloning step. We checked this earlier when looking at the git configuration settings - it is updated with each new repository we clone or create. *In short:* When we push changes, we’re interacting with a remote repository to update it with the changes we’ve made locally (often this corresponds to sharing the changes we’ve made with others). \n",
    "- basic collaborative workflow: In practice, it is good to be sure that you have an updated version of the repository you are collaborating on, so you should git pull before making our changes. The basic collaborative workflow would be:\n",
    "\n",
    "1. update your local repo with `git pull`\n",
    "2. make your changes and stage them with `git add`\n",
    "3. commit your changes with `git commit -m`, and\n",
    "4. upload the changes to GitHub with `git push`\n",
    "\n",
    "It is better to make many commits with smaller changes rather than of one commit with massive changes: small commits are easier to read and review.\n"
   ],
   "cell_type": "markdown",
   "metadata": {}
  }
 ]
}