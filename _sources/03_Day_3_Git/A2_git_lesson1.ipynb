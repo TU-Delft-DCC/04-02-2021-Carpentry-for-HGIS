{
 "metadata": {
  "language_info": {
   "codemirror_mode": {
    "name": "ipython",
    "version": 3
   },
   "file_extension": ".py",
   "mimetype": "text/x-python",
   "name": "python",
   "nbconvert_exporter": "python",
   "pygments_lexer": "ipython3",
   "version": 3
  },
  "orig_nbformat": 2
 },
 "nbformat": 4,
 "nbformat_minor": 2,
 "cells": [
  {
   "source": [
    "# Set up and initialise a local Git repository\n",
    "\n",
    "When we use Git on a new computer for the first time, we need to configure a few things. This is done in your terminal or GitBash command prompt.\n",
    "\n",
    "1. Your name: `$ git config --global user.name \"<insert your name here>\"`\n",
    "2. Your email address: `$ git config --global user.email \"<insert your email here>\"`\n",
    "    \n",
    "    For these lessons, we will be interacting with GitHub and so the email address used should be the same as the one       used when setting up your GitHub account.\n",
    "3. Your preferred text editor: `$ git config --global core.editor \"nano -w\"`\n",
    "4. Check your settings: `$ git config --list`\n",
    "\n",
    "## Initialise a local Git repository in the `world_cities_workshop/` folder\n",
    "\n",
    "1. `cd` into the `world_cities_workshop/` folder: `$ cd world_cities_workshop`\n",
    "2. Initialize a git repository in the `world_cities_workshop/` folder: `$ git init`\n",
    "\n",
    "And just like that, we've started a local repository that is ready to track changes for us. Pretty neat! Of course, we're still in the driver's seat - Git requires our input about what to track, what to ignore, and when to save or \"commit\" changes that we've made to our files and folders. \n",
    "\n",
    "3. Check that the git repository has indeed been initialised: `$ ls -a`\n",
    "4. Ask git to report on its current status: `$ git status`\n",
    "\n",
    "You should see a message indicating that you are on a branch called \"master\" and that there is nothing to commit yet - this makes sense because of course we haven't made any changes yet.\n",
    "\n"
   ],
   "cell_type": "markdown",
   "metadata": {}
  },
  {
   "source": [
    "\n",
    "\n"
   ],
   "cell_type": "markdown",
   "metadata": {}
  }
 ]
}