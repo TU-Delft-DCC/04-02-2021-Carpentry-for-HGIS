{
 "metadata": {
  "language_info": {
   "codemirror_mode": {
    "name": "ipython",
    "version": 3
   },
   "file_extension": ".py",
   "mimetype": "text/x-python",
   "name": "python",
   "nbconvert_exporter": "python",
   "pygments_lexer": "ipython3",
   "version": 3
  },
  "orig_nbformat": 2
 },
 "nbformat": 4,
 "nbformat_minor": 2,
 "cells": [
  {
   "source": [
    "# Add and commit changes to local git repository\n",
    "\n",
    "1. Check that git has noticed new gizmo.py file: `git status`\n",
    "2. Add gizmo.py to the staging area: `git add gizmo.py`\n",
    "3. Check that git has added gizmo.py to staging area: `git status`\n",
    "4. Commit the new file to git's history: `git commit -m \"defined hello function in gizmo.py\"`\n",
    "5. Check that the commit has been made: `git status`\n",
    "\n",
    "## Git Workflow\n",
    "\n",
    "The workflow for adding and committing future changes to files using Git is:\n",
    "\n",
    "1. `$ git status` to see the files that have been changed and are awaiting commit\n",
    "2. `$ git add <file_name>` to add one file at a time to the staging area or `$ git add .` to add all files that have been changed since the last commit\n",
    "3. `$ git commit -m \"<descriptive message>\"` to commit the latest version of file(s) and describe the nature of the changes made\n",
    "\n",
    "...and then optionally pushing to GitHub (or another remote repository like GitLab or BitBucket) by:\n",
    "\n",
    "4. `git push` to push the changes to the remote repository\n",
    "\n",
    "If you are working with others who are making changes to the same repository (ideally on their own branches), use:\n",
    "\n",
    "0. `git pull` before you start working each session. This avoids conflicts when you try to push your changes."
   ],
   "cell_type": "markdown",
   "metadata": {}
  }
 ]
}