{
 "metadata": {
  "language_info": {
   "codemirror_mode": {
    "name": "ipython",
    "version": 3
   },
   "file_extension": ".py",
   "mimetype": "text/x-python",
   "name": "python",
   "nbconvert_exporter": "python",
   "pygments_lexer": "ipython3",
   "version": 3
  },
  "orig_nbformat": 2
 },
 "nbformat": 4,
 "nbformat_minor": 2,
 "cells": [
  {
   "source": [
    "# Push changes to remote repository in GitHub\n",
    "\n",
    "1. Try `git push` - error message because there is no branch in the remote repository called 'yourname' \n",
    "2. Copy and paste the suggested command: `git push --set-upstream origin <yourname>` - message: 'Branch 'yourname' set up to track remote branch <yourname> from origin'\n",
    "3. Check to see if changes were pushed successfully: `git status`\n",
    "4. Check on GitHub to see that changes were successfully pushed. Click on branches drop down menu and show all, select 'yourname', here you should see a new file called gizmo.py which contains the \"hello\" function you defined."
   ],
   "cell_type": "markdown",
   "metadata": {}
  }
 ]
}