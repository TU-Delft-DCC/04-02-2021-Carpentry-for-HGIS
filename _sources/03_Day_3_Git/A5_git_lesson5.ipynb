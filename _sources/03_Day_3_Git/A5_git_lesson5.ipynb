{
 "metadata": {
  "language_info": {
   "codemirror_mode": {
    "name": "ipython",
    "version": 3
   },
   "file_extension": ".py",
   "mimetype": "text/x-python",
   "name": "python",
   "nbconvert_exporter": "python",
   "pygments_lexer": "ipython3",
   "version": 3
  },
  "orig_nbformat": 2
 },
 "nbformat": 4,
 "nbformat_minor": 2,
 "cells": [
  {
   "source": [
    "# Test your answers to Python challenges\n",
    "\n",
    "1. Run the test_gizmo.py script which tests the answers you try for each Python challenge: `python -m pytest .tests/test_gizmo.py` This should show a list of tests two to fourteen and pass/fail for each one. At the top there is a list of fourteen characters, if you pass a test it will show a green dot, if you fail it there should be a red F.   \n",
    "2. Try the rest of the exercises (3-12) on your own, running the same command after each one.\n",
    "3. If you need to change something about your answer to make it pass, use: `nano gizmo.py` and make your changes. Don't forget to track and commit changes with Git :) "
   ],
   "cell_type": "markdown",
   "metadata": {}
  }
 ]
}