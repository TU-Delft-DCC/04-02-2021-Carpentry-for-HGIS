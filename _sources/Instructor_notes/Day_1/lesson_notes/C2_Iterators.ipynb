{
 "metadata": {
  "language_info": {
   "codemirror_mode": {
    "name": "ipython",
    "version": 3
   },
   "file_extension": ".py",
   "mimetype": "text/x-python",
   "name": "python",
   "nbconvert_exporter": "python",
   "pygments_lexer": "ipython3",
   "version": "3.6.11-final"
  },
  "orig_nbformat": 2,
  "kernelspec": {
   "name": "python3",
   "display_name": "Python 3",
   "language": "python"
  }
 },
 "nbformat": 4,
 "nbformat_minor": 2,
 "cells": [
  {
   "source": [
    "# Iterators and iterables\n",
    "Explore numbers object"
   ],
   "cell_type": "markdown",
   "metadata": {}
  },
  {
   "cell_type": "code",
   "execution_count": null,
   "metadata": {},
   "outputs": [],
   "source": [
    "numbers = [1,2,3,4]\n",
    "print(dir(numbers))\n",
    "value = iter(numbers)\n",
    "\n",
    "item1 = value.__next__()\n",
    "print(item1)\n",
    "\n",
    "item2 = next(value)\n",
    "print(item2)\n"
   ]
  },
  {
   "source": [
    "## Iterator objects\n",
    "When running a for loop python builds an iterator behind the scenes as using a while loop as shown in the next code cell. Iterators are simply objects that implement the `iter()` method and the `next()` method."
   ],
   "cell_type": "markdown",
   "metadata": {}
  },
  {
   "cell_type": "code",
   "execution_count": null,
   "metadata": {},
   "outputs": [],
   "source": [
    "num_list = [1,4,9]\n",
    "iter_obj = iter(num_list) # builds an iterator object from an object\n",
    "\n",
    "while(True):\n",
    "    try:\n",
    "        element = next(iter_obj)\n",
    "        print(element)\n",
    "    except StopIteration:\n",
    "        break"
   ]
  },
  {
   "source": [
    "## Generators\n",
    "Generators allows to create iterators in an easier way.\n",
    "lets implement the code creating a custom iterator.\n",
    "Then less use the generator function to create the same iterator.\n",
    "(Generators are much simpler and they handle implcitly many things you do when implementing a custom iterator,not using the generator function)"
   ],
   "cell_type": "markdown",
   "metadata": {}
  },
  {
   "source": [
    "## Implementing a fibonacci generator"
   ],
   "cell_type": "markdown",
   "metadata": {}
  },
  {
   "source": [
    "def generate_fibonacci(sequence_number):\n",
    "    result = []\n",
    "    count = 0\n",
    "    def generate_number():\n",
    "        n1 = 0\n",
    "        n2 = 1\n",
    "        while True:\n",
    "            result.append(n1)\n",
    "            n1, n2 = n2, n1 + n2\n",
    "            count += 1\n",
    "\n",
    "    while count <= sequence_number:\n",
    "        generate_number()\n",
    "\n",
    "print(generate_fibonacci(5))\n",
    "\n"
   ],
   "cell_type": "code",
   "metadata": {},
   "execution_count": null,
   "outputs": []
  },
  {
   "cell_type": "code",
   "execution_count": null,
   "metadata": {},
   "outputs": [],
   "source": []
  }
 ]
}