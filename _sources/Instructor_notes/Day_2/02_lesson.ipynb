{
 "cells": [
  {
   "cell_type": "markdown",
   "metadata": {},
   "source": [
    "# Object oriented programming\n",
    "- OOP is a way of structuring code to make it more reusable, maintainable, etc.\n",
    "- All libraries we use are using object oriented programming, therefore is good to understand the basic concepts \n",
    "- Explain that the input() is just "
   ]
  },
  {
   "cell_type": "code",
   "execution_count": 1,
   "metadata": {},
   "outputs": [],
   "source": [
    "class User(object):\n",
    "\n",
    "    def __init__(self):\n",
    "        print(\"Provide first name: \")\n",
    "        self.name = input()\n",
    "        print(\"Provide last name: \")\n",
    "        self.last = input()\n",
    "\n",
    "    def __repr__(self):\n",
    "        return '<User %r>' % self.name\n",
    "\n",
    "    def __str__(self):\n",
    "        return self.name\n",
    "    \n",
    "    def change_first_name(self):\n",
    "        print(\"Modify the first name\")\n",
    "        self.name = input()\n",
    "    \n",
    "    def change_last_name(self):\n",
    "        print(\"Modify the last name\")\n",
    "        self.last = input()"
   ]
  },
  {
   "cell_type": "code",
   "execution_count": 2,
   "metadata": {},
   "outputs": [
    {
     "name": "stdout",
     "output_type": "stream",
     "text": [
      "Provide first name: \n"
     ]
    },
    {
     "name": "stdin",
     "output_type": "stream",
     "text": [
      " Jose\n"
     ]
    },
    {
     "name": "stdout",
     "output_type": "stream",
     "text": [
      "Provide last name: \n"
     ]
    },
    {
     "name": "stdin",
     "output_type": "stream",
     "text": [
      " Urra\n"
     ]
    },
    {
     "name": "stdout",
     "output_type": "stream",
     "text": [
      "Provide first name: \n"
     ]
    },
    {
     "name": "stdin",
     "output_type": "stream",
     "text": [
      " Ashley\n"
     ]
    },
    {
     "name": "stdout",
     "output_type": "stream",
     "text": [
      "Provide last name: \n"
     ]
    },
    {
     "name": "stdin",
     "output_type": "stream",
     "text": [
      " Crian\n"
     ]
    }
   ],
   "source": [
    "list = []\n",
    "for user in range(2):\n",
    "    user = User()\n",
    "    list.append(user)"
   ]
  },
  {
   "cell_type": "code",
   "execution_count": null,
   "metadata": {},
   "outputs": [],
   "source": [
    "print(list)\n",
    "list[0].change_first_name()"
   ]
  },
  {
   "cell_type": "code",
   "execution_count": 4,
   "metadata": {},
   "outputs": [
    {
     "ename": "NameError",
     "evalue": "name 'City' is not defined",
     "output_type": "error",
     "traceback": [
      "\u001b[1;31m---------------------------------------------------------------------------\u001b[0m",
      "\u001b[1;31mNameError\u001b[0m                                 Traceback (most recent call last)",
      "\u001b[1;32m<ipython-input-4-e32e76a4f1a0>\u001b[0m in \u001b[0;36m<module>\u001b[1;34m\u001b[0m\n\u001b[0;32m      2\u001b[0m \u001b[0mRun\u001b[0m \u001b[0mthese\u001b[0m \u001b[0mcommands\u001b[0m \u001b[0mstep\u001b[0m \u001b[0mby\u001b[0m \u001b[0mstep\u001b[0m \u001b[0mon\u001b[0m \u001b[0mthe\u001b[0m \u001b[0mintepreter\u001b[0m\u001b[1;33m\u001b[0m\u001b[1;33m\u001b[0m\u001b[0m\n\u001b[0;32m      3\u001b[0m '''\n\u001b[1;32m----> 4\u001b[1;33m \u001b[0mnew_city\u001b[0m \u001b[1;33m=\u001b[0m \u001b[0mCity\u001b[0m\u001b[1;33m(\u001b[0m\u001b[1;33m[\u001b[0m\u001b[1;34m'c'\u001b[0m\u001b[1;33m,\u001b[0m\u001b[1;34m'Havana'\u001b[0m\u001b[1;33m,\u001b[0m\u001b[1;33m-\u001b[0m\u001b[1;36m133.996669\u001b[0m\u001b[1;33m,\u001b[0m\u001b[1;36m190.000000\u001b[0m\u001b[1;33m,\u001b[0m\u001b[1;36m9500\u001b[0m\u001b[1;33m]\u001b[0m\u001b[1;33m)\u001b[0m\u001b[1;33m\u001b[0m\u001b[1;33m\u001b[0m\u001b[0m\n\u001b[0m\u001b[0;32m      5\u001b[0m \u001b[1;31m## check types (no need to use print in the python shell)\u001b[0m\u001b[1;33m\u001b[0m\u001b[1;33m\u001b[0m\u001b[1;33m\u001b[0m\u001b[0m\n\u001b[0;32m      6\u001b[0m \u001b[0mprint\u001b[0m\u001b[1;33m(\u001b[0m\u001b[0mtype\u001b[0m\u001b[1;33m(\u001b[0m\u001b[0mnew_city\u001b[0m\u001b[1;33m)\u001b[0m\u001b[1;33m)\u001b[0m\u001b[1;33m\u001b[0m\u001b[1;33m\u001b[0m\u001b[0m\n",
      "\u001b[1;31mNameError\u001b[0m: name 'City' is not defined"
     ]
    }
   ],
   "source": [
    "'''\n",
    "Run these commands step by step on the intepreter\n",
    "'''\n",
    "new_city = City(['c','Havana',-133.996669,190.000000,9500])\n",
    "## check types (no need to use print in the python shell)\n",
    "print(type(new_city))\n",
    "\n",
    "## Explain the object stored in memory\n",
    "print(new_city)\n",
    "## Print a property of the city\n",
    "print(new_city.name)"
   ]
  },
  {
   "cell_type": "code",
   "execution_count": null,
   "metadata": {},
   "outputs": [],
   "source": [
    "'''\n",
    "These commands are meant to be used first in the python interpreter\n",
    "'''\n",
    "## Skip first this step and look at the error\n",
    "from map import City\n",
    "\n",
    "# 1. Skip this step and only doing after reflecting on error\n",
    "# from map import Map\n",
    "\n",
    "# 2. Create a city object from the given class\n",
    "new_city = City(['c', 'Havana', 0.1, 2.6, 100000])\n",
    "\n",
    "## 3. Inspect a city object\n",
    "print(new_city.name)\n",
    "\n",
    "## Create a map object\n",
    "new_map = Map('oregonmap.csv')\n",
    "\n",
    "## Inspect the Map "
   ]
  }
 ],
 "metadata": {
  "kernelspec": {
   "display_name": "Python 3",
   "language": "python",
   "name": "python3"
  },
  "language_info": {
   "codemirror_mode": {
    "name": "ipython",
    "version": 3
   },
   "file_extension": ".py",
   "mimetype": "text/x-python",
   "name": "python",
   "nbconvert_exporter": "python",
   "pygments_lexer": "ipython3",
   "version": "3.8.3"
  }
 },
 "nbformat": 4,
 "nbformat_minor": 4
}
