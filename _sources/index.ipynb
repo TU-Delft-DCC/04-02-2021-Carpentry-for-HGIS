{
 "cells": [
  {
   "cell_type": "markdown",
   "metadata": {},
   "source": [
    "## Testing out the index\n",
    "This is a simple demo of how we can use simple html files to make a very rudimentary static website for a workshop that participants can use after the lesson.\n",
    "\n",
    "### Table of contents\n",
    "\n",
    "- [Drawing a simple map with python and turtle](./02_Python_Draw_GIS/python_lesson_notes.html). (This links to an html file with specific content)"
   ]
  }
 ],
 "metadata": {
  "kernelspec": {
   "display_name": "Python 3",
   "language": "python",
   "name": "python3"
  },
  "language_info": {
   "codemirror_mode": {
    "name": "ipython",
    "version": 3
   },
   "file_extension": ".py",
   "mimetype": "text/x-python",
   "name": "python",
   "nbconvert_exporter": "python",
   "pygments_lexer": "ipython3",
   "version": "3.8.3"
  }
 },
 "nbformat": 4,
 "nbformat_minor": 2
}
